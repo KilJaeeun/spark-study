{
 "cells": [
  {
   "cell_type": "markdown",
   "id": "50758d60",
   "metadata": {},
   "source": [
    "# 구조적  API 기본 연산\n",
    "\n",
    "DataFrame은 Row 타입의 레코드(Record)와 각 레코드에 수행할 연산 표현식을 나타내는 여러 컬럼(Column)으로 구성됩니다. 스키마(Schema)는 각 컬럼명과 데이터타입을 정의합니다. DataFrame의 파티셔닝(Partitioning)은 DataFrame이나 Dataset이 클러스터에서 물리적으로 배치되는 형태를 정의합니다.\n",
    "\n",
    "파티셔닝 스키마(Partitioning Schema)는 파티션을 배치하는 방법을 정의합니다. 파티셔닝의 분할 기준은 특정 컬럼이나 비결정론적인 값을 기반으로 설정할 수 있습니다.\n",
    "\n",
    "우선 DataFrame을 생성합니다."
   ]
  },
  {
   "cell_type": "code",
   "execution_count": 4,
   "id": "66a4284c",
   "metadata": {},
   "outputs": [],
   "source": [
    "df = spark.read.format(\"json\").load(\"./data/flight-data/json/2015-summary.json\")"
   ]
  },
  {
   "cell_type": "code",
   "execution_count": 6,
   "id": "7d368e3d",
   "metadata": {},
   "outputs": [
    {
     "name": "stdout",
     "output_type": "stream",
     "text": [
      "root\n",
      " |-- DEST_COUNTRY_NAME: string (nullable = true)\n",
      " |-- ORIGIN_COUNTRY_NAME: string (nullable = true)\n",
      " |-- count: long (nullable = true)\n",
      "\n"
     ]
    }
   ],
   "source": [
    "# DataFrame 은 컬럼을 가지며 스키마로 컬럼을 정의합니다.  \n",
    "# DataFrame의 스키마를 봅시다,\n",
    "df.printSchema()  #스키마는 관련된 모든 것을 하나로 묶는 역할을 합니다."
   ]
  },
  {
   "cell_type": "markdown",
   "id": "14212dfc",
   "metadata": {},
   "source": [
    "## 스키마\n",
    "스키마는 DataFrame의 컬럼명과 데이터타입을 정의합니다. 데이터소스에서 스키마를 얻거나 직접 정의할 수 있습니다.\n",
    "> 데이터를 읽기 전에 스키마를 정의해야하는지 여부는 상황에 따라 달라진다. 비정형 분석에서는 스키마-온-리드가 대부분 잘 동작합니다. 하지만 Long 데이터 타입을 Integer데이터 타입으로 잘못인식 하는 등 정밀도 문제가 발생할 수 있습니다. 따라서 운영환경에서 추출, 변환, 적재를 수행하는 ETL작업에 스파크를 이용한다면 직접 스키마를 정의해야한다. ETL작업중에 데이터타입을 알기 힘든 CSV나 JSON 등의 데이터소스를 사용하는 경우 스키마 푸론 과정에서 읽어들인 샘플 데이터의 타입에 따라 스키마를 결정할 수 있습니다."
   ]
  },
  {
   "cell_type": "code",
   "execution_count": 7,
   "id": "0a074a70",
   "metadata": {},
   "outputs": [
    {
     "data": {
      "text/plain": [
       "StructType(List(StructField(DEST_COUNTRY_NAME,StringType,true),StructField(ORIGIN_COUNTRY_NAME,StringType,true),StructField(count,LongType,true)))"
      ]
     },
     "execution_count": 7,
     "metadata": {},
     "output_type": "execute_result"
    }
   ],
   "source": [
    "spark.read.format(\"json\").load(\"./data/flight-data/json/2015-summary.json\").schema"
   ]
  },
  {
   "cell_type": "markdown",
   "id": "93a6a30e",
   "metadata": {},
   "source": [
    "스키마 여러 개의 `StructField` 타입 필드로 구성된  `StructType` 객체이다. `StructFiled` 는 이름, 데이터 타입, 컬럼 값이 없거나 `null`일 수 있는지 지정하는 불 값을 가진다.\n",
    "\n",
    "\n",
    "필요한 경우 컬럼과 관련된 메타데이터를 지정할 수 있습니다. 메타데이터는 해당 컬럼과 관련된 정보이고, Spark의  머신러닝 라이브러리에서 사용합니다.\n",
    "\n",
    "스키마는 복합데이터타입인 `StructType` 을 가질 수 있다. 다음은 DataFrame에 스키마를 만들고 적용하는 예제이다."
   ]
  },
  {
   "cell_type": "code",
   "execution_count": 29,
   "id": "ad354bfa",
   "metadata": {},
   "outputs": [],
   "source": [
    "from pyspark.sql.types import StructField, StructType, StringType, LongType\n",
    "\n",
    "myManualSchema = StructType([\n",
    "    StructField(\"DEST_COUNTRY_NAME\", StringType(), True),\n",
    "    StructField(\"ORIGIN_COUNTRY_NAME\", StringType(), True),\n",
    "    StructField(\"count\",LongType(), False, metadata={\"hello\":\"world\"})\n",
    "])\n",
    "\n",
    "\n",
    "# DataFrame에 스키마를 만들고 적용하는 예제\n",
    "df = spark.read.format(\"json\").schema(myManualSchema).load(\"./data/flight-data/json/2015-summary.json\")\n",
    "\n",
    "\n",
    "# 스파크는 자체 데이터 타입 정보를 사용하므로 프로그래밍 언어의 데이터타입을 스파크의 데이터 타입으로 설정할 수 없습니다.\n",
    "# 다음절에는 스키마에 정의하는 컬럼에 대해 알아보겠습니다.\n"
   ]
  },
  {
   "cell_type": "markdown",
   "id": "b93b66de",
   "metadata": {},
   "source": [
    "## 컬럼과 표현식\n",
    "Spark의 컬럼은 스프레드시트, R의  DataFrame, Pandas 의 DataFrmae과 유사합니다. 사용자는 표현식으로 DataFrame의 컬럼을 선택 조작 제거할 수 있습니다.\n",
    "Spark의 컬럼은 표현식으로 레코드 단위로 계산한 값을 단순히 나타내는 논리적인 구조입니다. 컬럼의 실젯값을 얻으려면 로우가 필요하고, 로우를 얻으려면 DataFrame이 필요합니다. DataFrame을 통하지 않으면 외부에서 컬럼에 접근할 수 없습니다.\n",
    "\n",
    "컬럼 내용을 수정하려면 반드시 DataFrame의 Spark 트랜스포메이션을 사용해야합니다.\n",
    "\n",
    "### 컬럼\n",
    "컬럼을 생성하고 참조할 수 있는 다양한 방법이 있지만, `col` 함수나 `column` 함수를 사용하는 것이 가장 간단합니다. 이들 함수는 컬럼명을 인수로 받습니다."
   ]
  },
  {
   "cell_type": "code",
   "execution_count": 30,
   "id": "fd137783",
   "metadata": {},
   "outputs": [
    {
     "data": {
      "text/plain": [
       "Column<'someColumnNameUsingCol'>"
      ]
     },
     "execution_count": 30,
     "metadata": {},
     "output_type": "execute_result"
    }
   ],
   "source": [
    "from pyspark.sql.functions import coalesce,col\n",
    "\n",
    "coalesce(\"comeColumnUsingColumn\") # column 이라 나오는데 그거 없음.\n",
    "col(\"someColumnNameUsingCol\")\n",
    "# https://spark.apache.org/docs/latest/api/python/reference/api/pyspark.sql.functions.coalesce.html"
   ]
  },
  {
   "cell_type": "markdown",
   "id": "985b60f4",
   "metadata": {},
   "source": [
    "이 책에서 col함수를 계속해서 사용합니다. 컬럼이 DataFrame에 있을지 없을지 알 수 없다. 컬럼은 컬럼명을 **카탈로그**에 저장된 정보와 비교하기 전까지 미확인 상태로 남습니다. 4장에서 알아본 것처럼 **분석기** 가 동작하는 단계에서 컬럼과 테이블을 분석합니다.\n",
    "\n",
    "\n",
    "#### 명시적 컬럼 참조 \n",
    "DataFrame의 컬럼은 `col` 메서드로 참조합니다. `col` 메소드는 조인 시 유용합니다. 예를 들어 DataFrame의 어떤 컬럼은 다른 DataFrame의  조인 컬럼 대상 칼럼에서 참조하기 위해 `col`메소드를 사용합니다. `col` 메소드를 사용해 명시적으로 컬럼을 정의하면 Spark는 분석기 실행 단계에서 컬럼 확인 절차를 생략합니다."
   ]
  },
  {
   "cell_type": "code",
   "execution_count": 34,
   "id": "d486cce3",
   "metadata": {},
   "outputs": [
    {
     "name": "stdout",
     "output_type": "stream",
     "text": [
      "+-----+\n",
      "|count|\n",
      "+-----+\n",
      "|   15|\n",
      "|    1|\n",
      "|  344|\n",
      "|   15|\n",
      "|   62|\n",
      "|    1|\n",
      "|   62|\n",
      "|  588|\n",
      "|   40|\n",
      "|    1|\n",
      "|  325|\n",
      "|   39|\n",
      "|   64|\n",
      "|    1|\n",
      "|   41|\n",
      "|   30|\n",
      "|    6|\n",
      "|    4|\n",
      "|  230|\n",
      "|    1|\n",
      "+-----+\n",
      "only showing top 20 rows\n",
      "\n"
     ]
    }
   ],
   "source": [
    "from pyspark.sql.functions import coalesce,col\n",
    "df.select(col(\"count\")).show()"
   ]
  },
  {
   "cell_type": "code",
   "execution_count": 35,
   "id": "d659ea19",
   "metadata": {},
   "outputs": [
    {
     "data": {
      "text/plain": [
       "DataFrame[DEST_COUNTRY_NAME: string, ORIGIN_COUNTRY_NAME: string, count: bigint]"
      ]
     },
     "execution_count": 35,
     "metadata": {},
     "output_type": "execute_result"
    }
   ],
   "source": [
    "df"
   ]
  },
  {
   "cell_type": "markdown",
   "id": "d5591dba",
   "metadata": {},
   "source": [
    "### 표현식\n",
    "DataFrame을 정의할 때 컬럼을 표현식이라 했다. 표현식은 DataFrame 레코드의 여러 값에 대한 트랜스포메이션 집합을 의미한다.\n",
    "\n",
    "여러 컬럼명이나 입력으로 박아 식별하고, 단일 값을 만들기 위해 다양한 표현식을 각 레코드에 적용하는 함수라 생각할 수 있다. 여기서 단일 값은 Map이나 Array같은 복합 데이터 타입일 수 있다.\n",
    "\n",
    "표현식은 `expr`함수로 가장 간단한 사용할 수 있다. 이 함수를 이용해 DataFrame의 컬럼을 참조할 수 있다. 예를 들어 `expr(\"someCol\")`은 `col(\"someCol\")` 구문과 동일하게 동작한다.\n",
    "\n",
    "#### 표현식으로 컬럼 표현\n",
    "컬럼은 표현식의 일부 기능을 제공한다. `col()`함수를 호출해 트랜스포메이션을 수행하려면 반드시 컬럼 참조를 사용해야한다. `expr` 함수의 인수 표현식을 사용하면 표현식을 분석해 트랜스포메이션과 컬럼 참조를 알아낼 수 있고, 다음 트랜스포메이션에 컬럼 참조를 전달할 수 있다.\n",
    "\n",
    "`expr(\"someCol -5\")`, `col(\"somCol\")-5`, `expr(\"someCol\")-5` 는 모두 같은 트랜스포메이션 과정을 거칩니다. Spark과 연산 순서를 지정하는 논리적 트리로 컴파일하기 때문이다.\n",
    "\n",
    "* 컬럼은 단지 표현식일 뿐이다.\n",
    "* 컬럼과 컬럼의 트랜스포메이션은 파싱된 표현식과 동일한 논리적 실행 계획으로 컴파일된다.\n",
    "\n",
    "```\n",
    "(((col(\"someCol\")+5)*200)-6)<col(\"otherCol\")\n",
    "\n",
    "```"
   ]
  },
  {
   "cell_type": "code",
   "execution_count": 40,
   "id": "cb3aa0ba",
   "metadata": {},
   "outputs": [
    {
     "data": {
      "text/plain": [
       "Column<'((((someCol + 5) * 200) - 6) < otherCol)'>"
      ]
     },
     "execution_count": 40,
     "metadata": {},
     "output_type": "execute_result"
    }
   ],
   "source": [
    "from pyspark.sql.functions import expr\n",
    "expr(\"(((someCol+5)*200)-6) < otherCol\")"
   ]
  },
  {
   "cell_type": "markdown",
   "id": "2dd43a83",
   "metadata": {},
   "source": [
    "SQLdml `SELECT` 구문에 이진 표현식을 사용해도 잘 동작하며 동일한 결과글 생성합니다. 그 이유는 SQL 표현식과 위 예제의 DataFrame 코드는 실행시점에 동일한 논리 트리로 컴파일되기 떄문이다. 따라서 DataFrame 코드나  SQL로 표현식을 작성할 수 있으며 동일한 성능을 발휘한다.\n",
    "\n",
    "#### DataFrame의 컬럼에 접근하기\n",
    "* `printSchema` 메서드로 DataFrame 의 전체 정보를 확인할 수 있다. \n",
    "* 프로그래밍 방식으로 컬럼에 접근할 때는 DataFrame의 columns  속성을 사용합니다."
   ]
  },
  {
   "cell_type": "code",
   "execution_count": 42,
   "id": "26217670",
   "metadata": {},
   "outputs": [
    {
     "data": {
      "text/plain": [
       "['DEST_COUNTRY_NAME', 'ORIGIN_COUNTRY_NAME', 'count']"
      ]
     },
     "execution_count": 42,
     "metadata": {},
     "output_type": "execute_result"
    }
   ],
   "source": [
    "spark.read.format(\"json\").load(\"./data/flight-data/json/2015-summary.json\").columns"
   ]
  },
  {
   "cell_type": "markdown",
   "id": "5e7773cf",
   "metadata": {},
   "source": [
    "## 레코드와 로우\n",
    "Spark 에서 DataFrame의 각 로우는 하나의 레코드이다. Spark는 레코드를 Row객체로 표현합니다. Spark는 값을 생성하기 위해 컬럼 표현식으로 Row 객체를 다룹니다.\n",
    "\n",
    "\n",
    "Row 객체는 내부에 바이트 배열을 가집니다. 이 바이트 배열 인터페이스는 오직 컬럼표현식으로만 다룰 수 있으므로 사용자에게 노출되지 않습니다.\n",
    "\n",
    "\n",
    "DataFrame을 사용해 드라이버에 개별 로우를 반환하는 명령은 하나 이상의 Row 타입을 반환합니다.\n",
    "DataFrame의 `first` 메소드를 로우로 확인해봅니다."
   ]
  },
  {
   "cell_type": "code",
   "execution_count": 43,
   "id": "1cf29733",
   "metadata": {},
   "outputs": [
    {
     "data": {
      "text/plain": [
       "Row(DEST_COUNTRY_NAME='United States', ORIGIN_COUNTRY_NAME='Romania', count=15)"
      ]
     },
     "execution_count": 43,
     "metadata": {},
     "output_type": "execute_result"
    }
   ],
   "source": [
    "df.first()"
   ]
  },
  {
   "cell_type": "markdown",
   "id": "a82434e1",
   "metadata": {},
   "source": [
    "### 로우 생성하기\n",
    "각 컬럼에 해당하는 값을 사용해 Row 객체를 직접 생성할 수 있습니다. Row 객체는 스키마 정보를 가지고 있지 않습니다. DataFrame만 유일하게 스키마를 가진다. 그러므로 Row객체를 직접 생성하려면 DataFrame의 스키마와 같은 순서로 값을 명시해야한다."
   ]
  },
  {
   "cell_type": "code",
   "execution_count": 44,
   "id": "d5917ccc",
   "metadata": {},
   "outputs": [],
   "source": [
    "from pyspark.sql import Row\n",
    "myRow = Row(\"Hello\", None, 1, False)"
   ]
  },
  {
   "cell_type": "markdown",
   "id": "89943bed",
   "metadata": {},
   "source": [
    "로우의 데이터에 접근하는 방법은 원하는 위치를 지정하면 된다. "
   ]
  },
  {
   "cell_type": "code",
   "execution_count": 45,
   "id": "dbd43799",
   "metadata": {},
   "outputs": [
    {
     "data": {
      "text/plain": [
       "'Hello'"
      ]
     },
     "execution_count": 45,
     "metadata": {},
     "output_type": "execute_result"
    }
   ],
   "source": [
    "myRow[0]"
   ]
  },
  {
   "cell_type": "markdown",
   "id": "736358b1",
   "metadata": {},
   "source": [
    "## DataFrame의 트랜스포메이션\n",
    "\n",
    "DataFrame을 다루는 방법은 \n",
    "* 로우나 컬럼 추가\n",
    "* 로우나 컬럼 제거\n",
    "* 로우를 컬럼으로 변환하거나 그 반대로 변환\n",
    "* 컬럼값을 기준으로 로우 순서 변경\n",
    "이 모든 유형의 작업은 트랜스포메이션으로 변환할 수 있다. \n",
    "\n",
    "### DataFrame 생성하기\n",
    "원시 데이터소스에서 DataFrame을 생성할 수 있다. 그리고 생성한 DataFrame은 이 장 후반부에 SQL 쿼리를 실행하고 SQL 기본 트랜스포메이션을 확인하기 위해 임시 뷰로 등록하겠습니다."
   ]
  },
  {
   "cell_type": "code",
   "execution_count": 47,
   "id": "4c985972",
   "metadata": {},
   "outputs": [],
   "source": [
    "df = spark.read.format(\"json\").load(\"./data/flight-data/json/2015-summary.json\")\n",
    "df.createOrReplaceTempView(\"dfTable\")"
   ]
  },
  {
   "cell_type": "code",
   "execution_count": 49,
   "id": "02da0130",
   "metadata": {},
   "outputs": [
    {
     "name": "stdout",
     "output_type": "stream",
     "text": [
      "+-----+----+-----+\n",
      "| some| col|names|\n",
      "+-----+----+-----+\n",
      "|Hello|null|    1|\n",
      "+-----+----+-----+\n",
      "\n"
     ]
    }
   ],
   "source": [
    "# Row 객체를 가진 Seq 타입을 직접 변환해 DataFrame 을 생성할 수 있다.\n",
    "from pyspark.sql import Row\n",
    "from pyspark.sql.types import StructField, StructType, StringType  , LongType\n",
    "\n",
    "myManualSchema= StructType([\n",
    "    StructField(\"some\", StringType(), True),\n",
    "      StructField(\"col\", StringType(), True),\n",
    "      StructField(\"names\", LongType(), False)\n",
    "])\n",
    "myRow =Row(\"Hello\", None, 1)\n",
    "myDf = spark.createDataFrame([myRow], myManualSchema)\n",
    "\n",
    "myDf.show()"
   ]
  },
  {
   "cell_type": "markdown",
   "id": "bffe70d0",
   "metadata": {},
   "source": [
    "지금까지 DataFrame을 만드는 방법을 알아보았습니다. \n",
    "이제 가장 유용하게 사용하는 메서드를 알아보자.\n",
    "* 컬럼이나 표현식을 사용하는 select 메서드\n",
    "* 문자열 표현식을 사용하는 selectExpr 메서드\n",
    "* 메서드로 사용할 수 없는 `org.apache.spark.sql.function` 패키지에 포함된 다양한 함수들\n",
    "이 세가지 유형에 메서드로 DataFrame 을 다룰 때 필요한 대부분 트랜스포메이션 작업을 해결할 수 있다.\n",
    "\n",
    "### select 와 selectExpr\n",
    "select 와 selectExpr 메서드를 사용하면 데이터테이블에  SQL을 실행하는 것처럼 DataFrame에서도 SQL을 사용할 수 있다.\n",
    "```\n",
    "SELECT * FROM dataFrameTable\n",
    "SELECT columnName FROM dataFrameTable\n",
    "SELECT columnName * 10, otherColumn, someOtherCol as c FROM dataFrameTable\n",
    "```\n"
   ]
  },
  {
   "cell_type": "code",
   "execution_count": 50,
   "id": "cc0315b6",
   "metadata": {},
   "outputs": [
    {
     "name": "stdout",
     "output_type": "stream",
     "text": [
      "+-----------------+\n",
      "|DEST_COUNTRY_NAME|\n",
      "+-----------------+\n",
      "|    United States|\n",
      "|    United States|\n",
      "+-----------------+\n",
      "only showing top 2 rows\n",
      "\n"
     ]
    }
   ],
   "source": [
    "df.select(\"DEST_COUNTRY_NAME\").show(2)"
   ]
  },
  {
   "cell_type": "code",
   "execution_count": 51,
   "id": "6d680980",
   "metadata": {},
   "outputs": [
    {
     "name": "stdout",
     "output_type": "stream",
     "text": [
      "+-----------------+-------------------+\n",
      "|DEST_COUNTRY_NAME|ORIGIN_COUNTRY_NAME|\n",
      "+-----------------+-------------------+\n",
      "|    United States|            Romania|\n",
      "|    United States|            Croatia|\n",
      "+-----------------+-------------------+\n",
      "only showing top 2 rows\n",
      "\n"
     ]
    }
   ],
   "source": [
    "df.select(\"DEST_COUNTRY_NAME\", \"ORIGIN_COUNTRY_NAME\").show(2)"
   ]
  },
  {
   "cell_type": "code",
   "execution_count": 60,
   "id": "2bb6e595",
   "metadata": {},
   "outputs": [
    {
     "name": "stdout",
     "output_type": "stream",
     "text": [
      "+-----------------+-----------------+---------------------------+-----------------+\n",
      "|DEST_COUNTRY_NAME|DEST_COUNTRY_NAME|coalesce(DEST_COUNTRY_NAME)|DEST_COUNTRY_NAME|\n",
      "+-----------------+-----------------+---------------------------+-----------------+\n",
      "|    United States|    United States|              United States|    United States|\n",
      "|    United States|    United States|              United States|    United States|\n",
      "|    United States|    United States|              United States|    United States|\n",
      "+-----------------+-----------------+---------------------------+-----------------+\n",
      "only showing top 3 rows\n",
      "\n"
     ]
    }
   ],
   "source": [
    "from pyspark.sql.functions import expr, col,coalesce\n",
    "\n",
    "df.select(\n",
    "    expr(\"DEST_COUNTRY_NAME\"),\n",
    "    col(\"DEST_COUNTRY_NAME\"),  \n",
    "    coalesce(\"DEST_COUNTRY_NAME\") ,\n",
    "    \"DEST_COUNTRY_NAME\"\n",
    ").show(3)"
   ]
  },
  {
   "cell_type": "markdown",
   "id": "16ef7a24",
   "metadata": {},
   "source": [
    "column 객체와 문자열을 함께 쓰는 실수를 많이 한다. 다음과 같은 예를 실행하면 컴파일러 오류가 발생한다. (안나는데)"
   ]
  },
  {
   "cell_type": "code",
   "execution_count": 56,
   "id": "6fafb137",
   "metadata": {},
   "outputs": [
    {
     "name": "stdout",
     "output_type": "stream",
     "text": [
      "+-----------------+-----------------+\n",
      "|DEST_COUNTRY_NAME|DEST_COUNTRY_NAME|\n",
      "+-----------------+-----------------+\n",
      "|    United States|    United States|\n",
      "|    United States|    United States|\n",
      "+-----------------+-----------------+\n",
      "only showing top 2 rows\n",
      "\n"
     ]
    }
   ],
   "source": [
    "df.select(col(\"DEST_COUNTRY_NAME\"),  \"DEST_COUNTRY_NAME\").show(2)"
   ]
  },
  {
   "cell_type": "markdown",
   "id": "d3590c92",
   "metadata": {},
   "source": [
    "`expr` 함수는 가장 유연한 참조 방식이다. `expr` 함수는 단순 컬럼 참조나 문자열을 이용해 컬럼 참조할 수 있습니다. 설명을 위해 AS 키워드로 컬럼명을 변경한 다음 alias 메서드로  변경해보겠습니다."
   ]
  },
  {
   "cell_type": "code",
   "execution_count": 61,
   "id": "0a718a64",
   "metadata": {},
   "outputs": [
    {
     "name": "stdout",
     "output_type": "stream",
     "text": [
      "+-------------+\n",
      "|  destination|\n",
      "+-------------+\n",
      "|United States|\n",
      "|United States|\n",
      "+-------------+\n",
      "only showing top 2 rows\n",
      "\n"
     ]
    }
   ],
   "source": [
    "df.select(expr(\"DEST_COUNTRY_NAME AS destination\")).show(2)"
   ]
  },
  {
   "cell_type": "code",
   "execution_count": 64,
   "id": "dc52818a",
   "metadata": {},
   "outputs": [
    {
     "name": "stdout",
     "output_type": "stream",
     "text": [
      "+-------------+\n",
      "|         temp|\n",
      "+-------------+\n",
      "|United States|\n",
      "|United States|\n",
      "+-------------+\n",
      "only showing top 2 rows\n",
      "\n"
     ]
    }
   ],
   "source": [
    "df.select(expr(\"DEST_COUNTRY_NAME AS destination\").alias(\"temp\")).show(2)"
   ]
  },
  {
   "cell_type": "markdown",
   "id": "e76dacd2",
   "metadata": {},
   "source": [
    "우리는 select 메서드에 expr 함수를 사용하는 패턴을 자주 사용합니다. 스파트는 이런 작업을 간단하고 효율적으로 활용할 수 있는 `selectExpr` 메서드를 제공합니다. selectExpr 메서드는 자주 사용하는 편리한 인터페이스중 하나이다."
   ]
  },
  {
   "cell_type": "code",
   "execution_count": 65,
   "id": "d9909c0c",
   "metadata": {},
   "outputs": [
    {
     "name": "stdout",
     "output_type": "stream",
     "text": [
      "+-------------+-----------------+\n",
      "|newColumnName|DEST_COUNTRY_NAME|\n",
      "+-------------+-----------------+\n",
      "|United States|    United States|\n",
      "|United States|    United States|\n",
      "+-------------+-----------------+\n",
      "only showing top 2 rows\n",
      "\n"
     ]
    }
   ],
   "source": [
    "df.selectExpr(\"DEST_COUNTRY_NAME as newColumnName\", \"DEST_COUNTRY_NAME\").show(2)"
   ]
  },
  {
   "cell_type": "markdown",
   "id": "729c6b1a",
   "metadata": {},
   "source": [
    "selectExpr 메서드는 새로운 DataFrame을 생성하는 복잡한 표현식을 간단하게 만드는 도구이다. 사실 모든 유효한  비집계형(non-aggregating) SQL 구문을 지정할 수 있다. "
   ]
  },
  {
   "cell_type": "code",
   "execution_count": 67,
   "id": "60383394",
   "metadata": {},
   "outputs": [
    {
     "name": "stdout",
     "output_type": "stream",
     "text": [
      "+-----------------+-------------------+-----+-------------+\n",
      "|DEST_COUNTRY_NAME|ORIGIN_COUNTRY_NAME|count|withinCountry|\n",
      "+-----------------+-------------------+-----+-------------+\n",
      "|    United States|            Romania|   15|        false|\n",
      "|    United States|            Croatia|    1|        false|\n",
      "|    United States|            Ireland|  344|        false|\n",
      "+-----------------+-------------------+-----+-------------+\n",
      "only showing top 3 rows\n",
      "\n"
     ]
    }
   ],
   "source": [
    "# 다음 코드는 DataFrame에 출발지와 도착지가 같은지 나타내는 새로운 withinCountry 컬럼을 나타내는 예제이다.\n",
    "df.selectExpr(\"*\",\"(DEST_COUNTRY_NAME= ORIGIN_COUNTRY_NAME) as withinCountry\" ).show(3)"
   ]
  },
  {
   "cell_type": "markdown",
   "id": "5b08a559",
   "metadata": {},
   "source": [
    "select 표현식은 DataFrame의 컬럼에 대한 집계함수를 지정할 수 있습니다."
   ]
  },
  {
   "cell_type": "code",
   "execution_count": 70,
   "id": "3d8fc952",
   "metadata": {},
   "outputs": [
    {
     "name": "stdout",
     "output_type": "stream",
     "text": [
      "+-----------+---------------------------------+\n",
      "| avg(count)|count(DISTINCT DEST_COUNTRY_NAME)|\n",
      "+-----------+---------------------------------+\n",
      "|1770.765625|                              132|\n",
      "+-----------+---------------------------------+\n",
      "\n"
     ]
    }
   ],
   "source": [
    "df.selectExpr(\"avg(count)\", \"count(distinct(DEST_COUNTRY_NAME))\").show(22)"
   ]
  },
  {
   "cell_type": "markdown",
   "id": "ecfc92dd",
   "metadata": {},
   "source": [
    "### 스파크 데이터 타입으로 변환하기\n",
    "때로는 새로운 컬럼이 아닌 명시적인 값을 스파크에 전달해야합니다. 명시적인 값은 상수값일 수 있고, 추후에 비교에 사용할 무언가가 될 수 있습니다. 이 떄 **리터럴(literal)** 을 사용합니다. 리터럴은 프로그래밍 언어의 리터럴값을 스파크가 이해할 수 있는 값으로 변환합니다."
   ]
  },
  {
   "cell_type": "code",
   "execution_count": 71,
   "id": "dec465c2",
   "metadata": {},
   "outputs": [
    {
     "name": "stdout",
     "output_type": "stream",
     "text": [
      "+-----------------+-------------------+-----+---+\n",
      "|DEST_COUNTRY_NAME|ORIGIN_COUNTRY_NAME|count|One|\n",
      "+-----------------+-------------------+-----+---+\n",
      "|    United States|            Romania|   15|  1|\n",
      "|    United States|            Croatia|    1|  1|\n",
      "+-----------------+-------------------+-----+---+\n",
      "only showing top 2 rows\n",
      "\n"
     ]
    }
   ],
   "source": [
    "from pyspark.sql.functions import lit\n",
    "df.select(expr(\"*\"), lit(1).alias(\"One\")).show(2)"
   ]
  },
  {
   "cell_type": "markdown",
   "id": "0120cc35",
   "metadata": {},
   "source": [
    "어떤 상수나 프로그래밍으로 생성된 변숫값이 특정 컬럼값보다 큰지 확인할 때 리터럴을 사용합니다."
   ]
  },
  {
   "cell_type": "markdown",
   "id": "71b53355",
   "metadata": {},
   "source": [
    "### 컬럼 추가하기 withColumn\n",
    "DataFrame에 신규 컬럼을 추가하는 공식적인 방법은 DataFramedml withColumn 메서드를 사용하는 것이다. 숫자 1을 값으로  가지는 컬럼을 추가하는 예제는 다음과 같다."
   ]
  },
  {
   "cell_type": "code",
   "execution_count": 72,
   "id": "d3765e26",
   "metadata": {},
   "outputs": [
    {
     "name": "stdout",
     "output_type": "stream",
     "text": [
      "+-----------------+-------------------+-----+---------+\n",
      "|DEST_COUNTRY_NAME|ORIGIN_COUNTRY_NAME|count|numberOne|\n",
      "+-----------------+-------------------+-----+---------+\n",
      "|    United States|            Romania|   15|        1|\n",
      "|    United States|            Croatia|    1|        1|\n",
      "+-----------------+-------------------+-----+---------+\n",
      "only showing top 2 rows\n",
      "\n"
     ]
    }
   ],
   "source": [
    "df.withColumn(\"numberOne\", lit(1)).show(2)"
   ]
  },
  {
   "cell_type": "code",
   "execution_count": 73,
   "id": "c932b0ad",
   "metadata": {},
   "outputs": [
    {
     "name": "stdout",
     "output_type": "stream",
     "text": [
      "+-----------------+-------------------+-----+------------+\n",
      "|DEST_COUNTRY_NAME|ORIGIN_COUNTRY_NAME|count|withinColumn|\n",
      "+-----------------+-------------------+-----+------------+\n",
      "|    United States|            Romania|   15|       false|\n",
      "+-----------------+-------------------+-----+------------+\n",
      "only showing top 1 row\n",
      "\n"
     ]
    }
   ],
   "source": [
    "df.withColumn(\"withinColumn\", expr(\"ORIGIN_COUNTRY_NAME == DEST_COUNTRY_NAME\")).show(1)"
   ]
  },
  {
   "cell_type": "markdown",
   "id": "4ba64d4b",
   "metadata": {},
   "source": [
    "withColumn 메소드는 두 개의 인수를 사용합니다. 하나는 컬럼명이고, 다른 하나는 값을 생성할 표현식입니다. 한 가지 재밌는 것은 withColumn 메서드로  컬럼명을 변경할 수 있단 것입니다. "
   ]
  },
  {
   "cell_type": "code",
   "execution_count": 74,
   "id": "6062a40f",
   "metadata": {},
   "outputs": [
    {
     "data": {
      "text/plain": [
       "['DEST_COUNTRY_NAME', 'ORIGIN_COUNTRY_NAME', 'count', 'withinColumn']"
      ]
     },
     "execution_count": 74,
     "metadata": {},
     "output_type": "execute_result"
    }
   ],
   "source": [
    "df.withColumn(\"withinColumn\",expr(\"ORIGIN_COUNTRY_NAME\")).columns"
   ]
  },
  {
   "cell_type": "markdown",
   "id": "fb265ac0",
   "metadata": {},
   "source": [
    "### 컬럼명 변경하기\n",
    "withColumn 메서드 대신 withColumnRenamed 메서드로 컬럼명을 변경할 수 있다. `withColumnRenamed`메서드는 첫 번째 인수로 전달된 컬럼명을 두 번쨰 인수의 문자열로 변경한다."
   ]
  },
  {
   "cell_type": "code",
   "execution_count": 76,
   "id": "8b55e725",
   "metadata": {},
   "outputs": [
    {
     "data": {
      "text/plain": [
       "['dest', 'ORIGIN_COUNTRY_NAME', 'count']"
      ]
     },
     "execution_count": 76,
     "metadata": {},
     "output_type": "execute_result"
    }
   ],
   "source": [
    "df.withColumnRenamed(\"DEST_COUNTRY_NAME\", \"dest\").columns"
   ]
  },
  {
   "cell_type": "markdown",
   "id": "58fb33d6",
   "metadata": {},
   "source": [
    "### 예약 문자와 키워드\n",
    "공백이나 하이픈(-) 같은 예약 문자는 컬럼명에 사용할 수 없다.  예약 문자를 컬럼명에 사용하려면 백틱(\\`) 문자를 사용해 이스케이프(escape)해야한다. withColumn 메서드를 사용해 예약 문자가 포함된 컬럼을 생성해보자. 다음은 이스케이핑 문자가 필요한 경우와 필요없는 경우 예제이다."
   ]
  },
  {
   "cell_type": "code",
   "execution_count": 78,
   "id": "6eff14cc",
   "metadata": {},
   "outputs": [],
   "source": [
    "dfWithLongColName = df.withColumn(\n",
    "\"This Long Column Name\", expr(\"ORIGIN_COUNTRY_NAME\"))\n",
    "# 위 예제에서는 withColumn 메서드의 첫 번째 인수로 새로운 컬럼명을 나타내는 문자열을 지정했기때문에 이스케이프 (escape) 문자가 필요없다. "
   ]
  },
  {
   "cell_type": "code",
   "execution_count": 80,
   "id": "7be3825e",
   "metadata": {},
   "outputs": [
    {
     "name": "stdout",
     "output_type": "stream",
     "text": [
      "+---------------------+-----------------+\n",
      "|This Long Column Name|newTemp small col|\n",
      "+---------------------+-----------------+\n",
      "|              Romania|          Romania|\n",
      "|              Croatia|          Croatia|\n",
      "+---------------------+-----------------+\n",
      "only showing top 2 rows\n",
      "\n"
     ]
    }
   ],
   "source": [
    "dfWithLongColName.selectExpr(\"`This Long Column Name`\", \"`This Long Column Name` as `newTemp small col`\").show(2)"
   ]
  },
  {
   "cell_type": "markdown",
   "id": "243c5d54",
   "metadata": {},
   "source": [
    "표현식 대신 문자열을 사용해 명시적으로 컬럼을 참조하면 리터럴로 해석되기 때문에 예약 문자가 포함된 컬럼을 참조할 수 있다. 예약 문자나 키워드를 사용하는 표현식에만 이스케이프 처리가 필요하다. 다음 두 예제 모두 같은 DataFrame을 만든다."
   ]
  },
  {
   "cell_type": "code",
   "execution_count": 82,
   "id": "80d3da2f",
   "metadata": {},
   "outputs": [
    {
     "data": {
      "text/plain": [
       "['This Long Column Name']"
      ]
     },
     "execution_count": 82,
     "metadata": {},
     "output_type": "execute_result"
    }
   ],
   "source": [
    "dfWithLongColName.select(expr(\"`This Long Column Name`\")).columns"
   ]
  },
  {
   "cell_type": "markdown",
   "id": "1d7713f2",
   "metadata": {},
   "source": [
    "### 대소문자 구분\n",
    "기본적으로 스파크는 대소문자를 가리지 않는다. 다음과 같은 설정을 통해 스파크에서 대소문자를 구분하게 만들 수 있다.\n",
    "```\n",
    "set spark.sql.caseSensitive true\n",
    "\n",
    "\n",
    "```"
   ]
  },
  {
   "cell_type": "markdown",
   "id": "d5acafe6",
   "metadata": {},
   "source": [
    "### 컬럼 제거하기\n",
    "DataFrame 에서 컬럼을 제거하는 방법을 알아보자. select 메서드로 컬럼을 제거할 수 있지만, 컬럼을 제거하는 메서드인 drop을 이용할 수 있다. "
   ]
  },
  {
   "cell_type": "code",
   "execution_count": 83,
   "id": "419a3cb0",
   "metadata": {},
   "outputs": [
    {
     "data": {
      "text/plain": [
       "['DEST_COUNTRY_NAME', 'count']"
      ]
     },
     "execution_count": 83,
     "metadata": {},
     "output_type": "execute_result"
    }
   ],
   "source": [
    "df.drop(\"ORIGIN_COUNTRY_NAME\").columns\n"
   ]
  },
  {
   "cell_type": "markdown",
   "id": "bc6f50a4",
   "metadata": {},
   "source": [
    "다수의 컬럼명을 drop 메서드의 인수로 사용해 컬럼을 한꺼번에 제거할 수 있다."
   ]
  },
  {
   "cell_type": "code",
   "execution_count": 84,
   "id": "da97a842",
   "metadata": {},
   "outputs": [
    {
     "data": {
      "text/plain": [
       "['count']"
      ]
     },
     "execution_count": 84,
     "metadata": {},
     "output_type": "execute_result"
    }
   ],
   "source": [
    "df.drop(\"ORIGIN_COUNTRY_NAME\", \"DEST_COUNTRY_NAME\").columns\n"
   ]
  },
  {
   "cell_type": "markdown",
   "id": "19a553c8",
   "metadata": {},
   "source": [
    "### 컬럼의 데이터타입 변경하기\n",
    "`cast` 메서드로 데이터타입을 변환할 수 있다. "
   ]
  },
  {
   "cell_type": "code",
   "execution_count": 85,
   "id": "816a4a3f",
   "metadata": {},
   "outputs": [
    {
     "data": {
      "text/plain": [
       "DataFrame[DEST_COUNTRY_NAME: string, ORIGIN_COUNTRY_NAME: string, count: bigint, count2: string]"
      ]
     },
     "execution_count": 85,
     "metadata": {},
     "output_type": "execute_result"
    }
   ],
   "source": [
    "df.withColumn(\"count2\", col(\"count\").cast(\"string\"))"
   ]
  },
  {
   "cell_type": "markdown",
   "id": "bf377119",
   "metadata": {},
   "source": [
    "####  필터링 : where , filter"
   ]
  },
  {
   "cell_type": "code",
   "execution_count": 86,
   "id": "f320ad8a",
   "metadata": {},
   "outputs": [
    {
     "name": "stdout",
     "output_type": "stream",
     "text": [
      "+-----------------+-------------------+-----+\n",
      "|DEST_COUNTRY_NAME|ORIGIN_COUNTRY_NAME|count|\n",
      "+-----------------+-------------------+-----+\n",
      "|    United States|            Romania|   15|\n",
      "+-----------------+-------------------+-----+\n",
      "only showing top 1 row\n",
      "\n"
     ]
    }
   ],
   "source": [
    "df.filter(col(\"count\")> 2).show(1)"
   ]
  },
  {
   "cell_type": "code",
   "execution_count": 88,
   "id": "bf287f1b",
   "metadata": {},
   "outputs": [
    {
     "name": "stdout",
     "output_type": "stream",
     "text": [
      "+-----------------+-------------------+-----+\n",
      "|DEST_COUNTRY_NAME|ORIGIN_COUNTRY_NAME|count|\n",
      "+-----------------+-------------------+-----+\n",
      "|    United States|            Romania|   15|\n",
      "+-----------------+-------------------+-----+\n",
      "only showing top 1 row\n",
      "\n"
     ]
    }
   ],
   "source": [
    "df.where(\"count> 2\").show(1)"
   ]
  },
  {
   "cell_type": "markdown",
   "id": "13f734a5",
   "metadata": {},
   "source": [
    "같은 표현식에 여러 필터를 적용해야 할 때도 있습니다. 하지만 Spark 는 자동으로 필터의 순서와 상관없이 동시에 모든 필터링 작업을 수행하기 때문에 항상 유요한건 아닙니다. 그러므로 여러 개의 AND 필터를 지정하려면 차례대로 필터를 연결하고 판단은 Spark 에 맡겨야합니다."
   ]
  },
  {
   "cell_type": "code",
   "execution_count": 89,
   "id": "0d21a81a",
   "metadata": {},
   "outputs": [
    {
     "name": "stdout",
     "output_type": "stream",
     "text": [
      "+-----------------+-------------------+-----+\n",
      "|DEST_COUNTRY_NAME|ORIGIN_COUNTRY_NAME|count|\n",
      "+-----------------+-------------------+-----+\n",
      "|    United States|          Singapore|    1|\n",
      "|          Moldova|      United States|    1|\n",
      "+-----------------+-------------------+-----+\n",
      "only showing top 2 rows\n",
      "\n"
     ]
    }
   ],
   "source": [
    "df.where(col(\"count\")<2).where(col(\"ORIGIN_COUNTRY_NAME\")!=\"Croatia\").show(2)"
   ]
  },
  {
   "cell_type": "markdown",
   "id": "6c213d9b",
   "metadata": {},
   "source": [
    "### 고유한 로우 얻기\n",
    "`distinct` 메서드는 중복되지 않은 로우를 가진 신규 DataFrame을 반환한다."
   ]
  },
  {
   "cell_type": "code",
   "execution_count": 90,
   "id": "3467c9de",
   "metadata": {},
   "outputs": [
    {
     "data": {
      "text/plain": [
       "256"
      ]
     },
     "execution_count": 90,
     "metadata": {},
     "output_type": "execute_result"
    }
   ],
   "source": [
    "df.select(\"ORIGIN_COUNTRY_NAME\",\"DEST_COUNTRY_NAME\" ).distinct().count()"
   ]
  },
  {
   "cell_type": "code",
   "execution_count": 91,
   "id": "4e63373b",
   "metadata": {},
   "outputs": [
    {
     "data": {
      "text/plain": [
       "125"
      ]
     },
     "execution_count": 91,
     "metadata": {},
     "output_type": "execute_result"
    }
   ],
   "source": [
    "df.select(\"ORIGIN_COUNTRY_NAME\").distinct().count()"
   ]
  },
  {
   "cell_type": "markdown",
   "id": "88ae4c08",
   "metadata": {},
   "source": [
    "### 무작위 샘플 만들기\n",
    "* `sample` 메서드를 이용하면 된다.\n",
    "* DataFrame에서 표본 데이터 추출 비율을 지정할 수 있고, 복원 추출이나 비복원 추출의 사용 여부를 지정할 수 있다."
   ]
  },
  {
   "cell_type": "code",
   "execution_count": 94,
   "id": "89adfd53",
   "metadata": {},
   "outputs": [
    {
     "data": {
      "text/plain": [
       "138"
      ]
     },
     "execution_count": 94,
     "metadata": {},
     "output_type": "execute_result"
    }
   ],
   "source": [
    "seed = 5\n",
    "withReplacement=False\n",
    "fraction = 0.5\n",
    "df.sample(withReplacement, fraction, seed).count()"
   ]
  },
  {
   "cell_type": "markdown",
   "id": "91a9679a",
   "metadata": {},
   "source": [
    "### 임의 분할하기\n",
    "임의 분할은 DataFrame을 임의 크기로 \"분할\"할 때 유용하게 사용됩니다. 이 기능은 머신러닝 알고리즘에 사용할 학습셋, 검증셋, 그리고 테스트 셋을 만들 때 주로 사용합니다. 다음 예제에서는 분할 가중치를 함수의 파라미터로 설정해 원본 DataFrame을 서로 다른 데이터를 가진 두 개의 DataFrame으로 나눕니다. 이 메서드는 임의성(randomized)을 가지도록 설계되어 시드값을 반드시 설정해야합니다. 총합이 1이 되도록 각 DataFrame 비율을 지정하지 않으면 예제와 같은 비율로 지정됩니다."
   ]
  },
  {
   "cell_type": "code",
   "execution_count": 95,
   "id": "95c771ae",
   "metadata": {},
   "outputs": [
    {
     "data": {
      "text/plain": [
       "False"
      ]
     },
     "execution_count": 95,
     "metadata": {},
     "output_type": "execute_result"
    }
   ],
   "source": [
    "dataFrames = df.randomSplit([0.25, 0.75], seed)\n",
    "dataFrames[0].count()> dataFrames[1].count()"
   ]
  },
  {
   "cell_type": "markdown",
   "id": "93455739",
   "metadata": {},
   "source": [
    "### 로우 합치기와 추가하기\n",
    "DataFrame에 레코드를 추가하려면 원본 DataFrame에 새로운 DataFrame을 통합해야한다. 통합은 두 개의 DataFrameㅡㅇ ㄹ단순히 결합하는 행위이다. 통합하려는 두 개의 DataFrame은 반드시 동일한 스키마와 컬럼 수를 가져야한다.\n",
    "> union 메서드는 현재 스키마가 아닌 컬럼 위치를 기반으로 동작합니다."
   ]
  },
  {
   "cell_type": "code",
   "execution_count": 97,
   "id": "40040233",
   "metadata": {},
   "outputs": [
    {
     "name": "stdout",
     "output_type": "stream",
     "text": [
      "+-----------------+-------------------+-----+\n",
      "|DEST_COUNTRY_NAME|ORIGIN_COUNTRY_NAME|count|\n",
      "+-----------------+-------------------+-----+\n",
      "|    United States|            Croatia|    1|\n",
      "|    United States|          Singapore|    1|\n",
      "|    United States|          Gibraltar|    1|\n",
      "|    United States|             Cyprus|    1|\n",
      "|    United States|            Estonia|    1|\n",
      "|    United States|          Lithuania|    1|\n",
      "|    United States|           Bulgaria|    1|\n",
      "|    United States|            Georgia|    1|\n",
      "|    United States|            Bahrain|    1|\n",
      "|    United States|   Papua New Guinea|    1|\n",
      "|    United States|         Montenegro|    1|\n",
      "|    United States|            Namibia|    1|\n",
      "|      New Country|     Other Country2|    1|\n",
      "+-----------------+-------------------+-----+\n",
      "\n"
     ]
    }
   ],
   "source": [
    "from pyspark.sql import Row\n",
    "schema = df.schema\n",
    "newRows=[\n",
    "    Row(\"New Country\", \"Other Country\", 4),\n",
    "    Row(\"New Country\", \"Other Country2\", 1)\n",
    "]\n",
    "\n",
    "parallelizedRows = spark.sparkContext.parallelize(newRows)\n",
    "newDF= spark.createDataFrame(parallelizedRows , schema)\n",
    "df.union(newDF).where(\"count=1\").where(col(\"ORIGIN_COUNTRY_NAME\")!=\"United States\").show()"
   ]
  },
  {
   "cell_type": "markdown",
   "id": "0376dd97",
   "metadata": {},
   "source": [
    "### 로우 정렬하기\n",
    "sort 와 orderBy 메서드를 사용해 DataFrame의 최댓값 혹은 최솟값이 상단에  위치하도록 정렬할 수 있다. 두 메서드는 완벽히 같게 동작한다. 두 메서드 모두 컬럼 표현식과 문자열을 사용할 수 있고, 다수의 컬럼을 지정할 수 있다. 기본 동작은 오름차순이다."
   ]
  },
  {
   "cell_type": "code",
   "execution_count": 99,
   "id": "b80089d8",
   "metadata": {},
   "outputs": [
    {
     "name": "stdout",
     "output_type": "stream",
     "text": [
      "+--------------------+--------------------+-----+\n",
      "|   DEST_COUNTRY_NAME| ORIGIN_COUNTRY_NAME|count|\n",
      "+--------------------+--------------------+-----+\n",
      "|       United States|            Bulgaria|    1|\n",
      "|       United States|             Georgia|    1|\n",
      "|               Malta|       United States|    1|\n",
      "|       United States|              Cyprus|    1|\n",
      "|       United States|             Bahrain|    1|\n",
      "|       United States|           Singapore|    1|\n",
      "|       Cote d'Ivoire|       United States|    1|\n",
      "|        Burkina Faso|       United States|    1|\n",
      "|       United States|    Papua New Guinea|    1|\n",
      "|              Kosovo|       United States|    1|\n",
      "|       United States|           Gibraltar|    1|\n",
      "|            Djibouti|       United States|    1|\n",
      "|                Iraq|       United States|    1|\n",
      "|           Indonesia|       United States|    1|\n",
      "|       United States|             Estonia|    1|\n",
      "|       New Caledonia|       United States|    1|\n",
      "|       United States|          Montenegro|    1|\n",
      "|       United States|             Croatia|    1|\n",
      "|              Zambia|       United States|    1|\n",
      "|       United States|             Namibia|    1|\n",
      "|              Cyprus|       United States|    1|\n",
      "|             Moldova|       United States|    1|\n",
      "|Saint Vincent and...|       United States|    1|\n",
      "|       United States|           Lithuania|    1|\n",
      "|            Suriname|       United States|    1|\n",
      "|             Croatia|       United States|    2|\n",
      "|       United States|             Liberia|    2|\n",
      "|               Niger|       United States|    2|\n",
      "|       United States|           Indonesia|    2|\n",
      "|             Liberia|       United States|    2|\n",
      "|           Greenland|       United States|    2|\n",
      "|       United States|               Malta|    2|\n",
      "|             Georgia|       United States|    2|\n",
      "|             Hungary|       United States|    2|\n",
      "|       United States|             Vietnam|    2|\n",
      "|            Malaysia|       United States|    2|\n",
      "|       United States|             Hungary|    3|\n",
      "|             Tunisia|       United States|    3|\n",
      "|    Papua New Guinea|       United States|    3|\n",
      "|            Bulgaria|       United States|    3|\n",
      "|           Singapore|       United States|    3|\n",
      "|       United States|            Malaysia|    3|\n",
      "|            Thailand|       United States|    3|\n",
      "|             Algeria|       United States|    4|\n",
      "|       United States|            Thailand|    4|\n",
      "|       United States|           Greenland|    4|\n",
      "|       French Guiana|       United States|    5|\n",
      "|       United States|            Paraguay|    6|\n",
      "|            Pakistan|       United States|   12|\n",
      "|       United States|               Egypt|   12|\n",
      "|       United States|      Czech Republic|   12|\n",
      "|       United States|            Ethiopia|   12|\n",
      "|       United States|            Pakistan|   12|\n",
      "|            Ethiopia|       United States|   13|\n",
      "|       United States|             Uruguay|   13|\n",
      "|        Cook Islands|       United States|   13|\n",
      "|       United States|             Ukraine|   13|\n",
      "|       United States|             Bolivia|   13|\n",
      "|      Czech Republic|       United States|   13|\n",
      "|       United States|              Angola|   13|\n",
      "|       United States|        Cook Islands|   13|\n",
      "|             Romania|       United States|   14|\n",
      "|       United States|          Cape Verde|   14|\n",
      "|             Ukraine|       United States|   14|\n",
      "|             Morocco|       United States|   15|\n",
      "|               Egypt|       United States|   15|\n",
      "|       United States|              Latvia|   15|\n",
      "|              Angola|       United States|   15|\n",
      "|       United States|             Romania|   15|\n",
      "|               Ghana|       United States|   18|\n",
      "|             Bahrain|       United States|   19|\n",
      "|       United States|             Morocco|   19|\n",
      "|              Latvia|       United States|   19|\n",
      "|            Dominica|       United States|   20|\n",
      "|          Cape Verde|       United States|   20|\n",
      "|       United States|               Ghana|   20|\n",
      "|       United States|          Azerbaijan|   21|\n",
      "|          Azerbaijan|       United States|   21|\n",
      "|       United States|              Greece|   23|\n",
      "|                Fiji|       United States|   24|\n",
      "|               Samoa|       United States|   25|\n",
      "|       United States|               Samoa|   25|\n",
      "|       United States|                Fiji|   25|\n",
      "|            Kiribati|       United States|   26|\n",
      "|             Finland|       United States|   26|\n",
      "|       United States|            Dominica|   27|\n",
      "|       United States|              Kuwait|   28|\n",
      "|       United States|             Finland|   28|\n",
      "|             Bolivia|       United States|   30|\n",
      "|               Palau|       United States|   30|\n",
      "|              Greece|       United States|   30|\n",
      "|       United States|               Palau|   31|\n",
      "|              Kuwait|       United States|   32|\n",
      "|              Poland|       United States|   32|\n",
      "|       United States|              Poland|   33|\n",
      "|       United States|            Suriname|   34|\n",
      "|       United States|            Kiribati|   35|\n",
      "|        South Africa|       United States|   36|\n",
      "|       United States|            Anguilla|   38|\n",
      "|    Saint Barthelemy|       United States|   39|\n",
      "|       United States|    Marshall Islands|   39|\n",
      "|       United States|        South Africa|   40|\n",
      "|       United States|    French Polynesia|   40|\n",
      "|             Senegal|       United States|   40|\n",
      "|            Anguilla|       United States|   41|\n",
      "|       United States|    Saint Barthelemy|   41|\n",
      "|       United States|             Senegal|   42|\n",
      "|    Marshall Islands|       United States|   42|\n",
      "|             Uruguay|       United States|   43|\n",
      "|    French Polynesia|       United States|   43|\n",
      "|       United States|          Martinique|   43|\n",
      "|          Martinique|       United States|   44|\n",
      "|              Jordan|       United States|   44|\n",
      "|       United States|              Jordan|   44|\n",
      "|       United States|             Nigeria|   50|\n",
      "|             Grenada|       United States|   53|\n",
      "|          Guadeloupe|       United States|   56|\n",
      "|Bonaire, Sint Eus...|       United States|   58|\n",
      "|             Nigeria|       United States|   59|\n",
      "|       United States|Bonaire, Sint Eus...|   59|\n",
      "|       United States|          Guadeloupe|   59|\n",
      "|            Paraguay|       United States|   60|\n",
      "|               India|       United States|   61|\n",
      "|             Austria|       United States|   62|\n",
      "|       United States|               India|   62|\n",
      "|       United States|             Grenada|   62|\n",
      "|       United States|              Guyana|   63|\n",
      "|       United States|             Austria|   63|\n",
      "|              Guyana|       United States|   64|\n",
      "|       United States|Federated States ...|   69|\n",
      "|Federated States ...|       United States|   69|\n",
      "|       United States|        Saudi Arabia|   70|\n",
      "|       United States|         New Zealand|   74|\n",
      "|       United States|British Virgin Is...|   80|\n",
      "|       United States|             Curacao|   83|\n",
      "|        Saudi Arabia|       United States|   83|\n",
      "|             Curacao|       United States|   90|\n",
      "|British Virgin Is...|       United States|  107|\n",
      "|               Qatar|       United States|  108|\n",
      "|       United States|               Qatar|  109|\n",
      "|         New Zealand|       United States|  111|\n",
      "|       United States|              Norway|  115|\n",
      "|       United States| Antigua and Barbuda|  117|\n",
      "|              Sweden|       United States|  118|\n",
      "|       United States|              Sweden|  119|\n",
      "|              Norway|       United States|  121|\n",
      "|         Saint Lucia|       United States|  123|\n",
      "| Antigua and Barbuda|       United States|  126|\n",
      "|       United States|         Philippines|  126|\n",
      "|            Portugal|       United States|  127|\n",
      "|       United States|              Israel|  127|\n",
      "|       United States|              Turkey|  129|\n",
      "|       United States|            Barbados|  130|\n",
      "|       United States|            Portugal|  134|\n",
      "|              Israel|       United States|  134|\n",
      "|       United States|          Luxembourg|  134|\n",
      "|         Philippines|       United States|  134|\n",
      "|       United States|         Saint Lucia|  136|\n",
      "|              Turkey|       United States|  138|\n",
      "|Saint Kitts and N...|       United States|  139|\n",
      "|       United States|           Argentina|  141|\n",
      "|       United States|Saint Kitts and N...|  145|\n",
      "|       United States|             Denmark|  152|\n",
      "|             Denmark|       United States|  153|\n",
      "|            Barbados|       United States|  154|\n",
      "|          Luxembourg|       United States|  155|\n",
      "|       United States|              Russia|  161|\n",
      "|               Chile|       United States|  174|\n",
      "|              Russia|       United States|  176|\n",
      "|           Nicaragua|       United States|  179|\n",
      "|           Argentina|       United States|  180|\n",
      "|             Iceland|       United States|  181|\n",
      "|             Bermuda|       United States|  183|\n",
      "|       United States|               Chile|  185|\n",
      "|              Belize|       United States|  188|\n",
      "|       United States|              Belize|  193|\n",
      "|       United States|             Bermuda|  193|\n",
      "|       United States|           Nicaragua|  201|\n",
      "|       United States|             Iceland|  202|\n",
      "| Trinidad and Tobago|       United States|  211|\n",
      "|       United States| Trinidad and Tobago|  217|\n",
      "|       United States|               Haiti|  225|\n",
      "|               Haiti|       United States|  226|\n",
      "|       United States|             Belgium|  228|\n",
      "|Turks and Caicos ...|       United States|  230|\n",
      "|       United States|              Taiwan|  235|\n",
      "|       United States|Turks and Caicos ...|  236|\n",
      "|       United States|           Venezuela|  246|\n",
      "|       United States|           Australia|  258|\n",
      "|             Belgium|       United States|  259|\n",
      "|              Taiwan|       United States|  266|\n",
      "|             Ecuador|       United States|  268|\n",
      "|                Peru|       United States|  279|\n",
      "|           Venezuela|       United States|  290|\n",
      "|         Switzerland|       United States|  294|\n",
      "|       United States|             Ecuador|  300|\n",
      "|       United States|         Switzerland|  305|\n",
      "|       United States|      Cayman Islands|  310|\n",
      "|       United States|United Arab Emirates|  313|\n",
      "|      Cayman Islands|       United States|  314|\n",
      "|       United States|           Guatemala|  318|\n",
      "|United Arab Emirates|       United States|  320|\n",
      "|       United States|        Sint Maarten|  325|\n",
      "|        Sint Maarten|       United States|  325|\n",
      "|           Australia|       United States|  329|\n",
      "|           Hong Kong|       United States|  332|\n",
      "|             Ireland|       United States|  335|\n",
      "|       United States|                Peru|  337|\n",
      "|       United States|               Aruba|  342|\n",
      "|       United States|             Ireland|  344|\n",
      "|               Aruba|       United States|  346|\n",
      "|            Honduras|       United States|  362|\n",
      "|               Italy|       United States|  382|\n",
      "|           Guatemala|       United States|  397|\n",
      "|       United States|            Honduras|  407|\n",
      "|       United States|           Hong Kong|  414|\n",
      "|               Spain|       United States|  420|\n",
      "|       United States|               Italy|  438|\n",
      "|       United States|               Spain|  442|\n",
      "|       United States|              Panama|  465|\n",
      "|                Cuba|       United States|  466|\n",
      "|       United States|                Cuba|  478|\n",
      "|       United States|         El Salvador|  508|\n",
      "|              Panama|       United States|  510|\n",
      "|         El Salvador|       United States|  561|\n",
      "|          Costa Rica|       United States|  588|\n",
      "|       United States|          Costa Rica|  608|\n",
      "|       United States|              Brazil|  619|\n",
      "|       United States|         Netherlands|  660|\n",
      "|             Jamaica|       United States|  666|\n",
      "|       United States|             Jamaica|  712|\n",
      "|               China|       United States|  772|\n",
      "|         Netherlands|       United States|  776|\n",
      "+--------------------+--------------------+-----+\n",
      "only showing top 233 rows\n",
      "\n"
     ]
    }
   ],
   "source": [
    "df.sort(\"count\").show(233)"
   ]
  },
  {
   "cell_type": "code",
   "execution_count": 100,
   "id": "45d42cf1",
   "metadata": {},
   "outputs": [
    {
     "name": "stdout",
     "output_type": "stream",
     "text": [
      "+--------------------+--------------------+------+\n",
      "|   DEST_COUNTRY_NAME| ORIGIN_COUNTRY_NAME| count|\n",
      "+--------------------+--------------------+------+\n",
      "|        Burkina Faso|       United States|     1|\n",
      "|       Cote d'Ivoire|       United States|     1|\n",
      "|              Cyprus|       United States|     1|\n",
      "|            Djibouti|       United States|     1|\n",
      "|           Indonesia|       United States|     1|\n",
      "|                Iraq|       United States|     1|\n",
      "|              Kosovo|       United States|     1|\n",
      "|               Malta|       United States|     1|\n",
      "|             Moldova|       United States|     1|\n",
      "|       New Caledonia|       United States|     1|\n",
      "|Saint Vincent and...|       United States|     1|\n",
      "|            Suriname|       United States|     1|\n",
      "|       United States|             Estonia|     1|\n",
      "|       United States|              Cyprus|     1|\n",
      "|       United States|           Lithuania|     1|\n",
      "|       United States|            Bulgaria|     1|\n",
      "|       United States|             Georgia|     1|\n",
      "|       United States|             Bahrain|     1|\n",
      "|       United States|    Papua New Guinea|     1|\n",
      "|       United States|          Montenegro|     1|\n",
      "|       United States|             Namibia|     1|\n",
      "|       United States|             Croatia|     1|\n",
      "|       United States|           Singapore|     1|\n",
      "|       United States|           Gibraltar|     1|\n",
      "|              Zambia|       United States|     1|\n",
      "|             Croatia|       United States|     2|\n",
      "|             Georgia|       United States|     2|\n",
      "|           Greenland|       United States|     2|\n",
      "|             Hungary|       United States|     2|\n",
      "|             Liberia|       United States|     2|\n",
      "|            Malaysia|       United States|     2|\n",
      "|               Niger|       United States|     2|\n",
      "|       United States|             Vietnam|     2|\n",
      "|       United States|           Indonesia|     2|\n",
      "|       United States|             Liberia|     2|\n",
      "|       United States|               Malta|     2|\n",
      "|            Bulgaria|       United States|     3|\n",
      "|    Papua New Guinea|       United States|     3|\n",
      "|           Singapore|       United States|     3|\n",
      "|            Thailand|       United States|     3|\n",
      "|             Tunisia|       United States|     3|\n",
      "|       United States|            Malaysia|     3|\n",
      "|       United States|             Hungary|     3|\n",
      "|             Algeria|       United States|     4|\n",
      "|       United States|            Thailand|     4|\n",
      "|       United States|           Greenland|     4|\n",
      "|       French Guiana|       United States|     5|\n",
      "|       United States|            Paraguay|     6|\n",
      "|            Pakistan|       United States|    12|\n",
      "|       United States|               Egypt|    12|\n",
      "|       United States|            Ethiopia|    12|\n",
      "|       United States|            Pakistan|    12|\n",
      "|       United States|      Czech Republic|    12|\n",
      "|        Cook Islands|       United States|    13|\n",
      "|      Czech Republic|       United States|    13|\n",
      "|            Ethiopia|       United States|    13|\n",
      "|       United States|              Angola|    13|\n",
      "|       United States|             Ukraine|    13|\n",
      "|       United States|             Bolivia|    13|\n",
      "|       United States|        Cook Islands|    13|\n",
      "|       United States|             Uruguay|    13|\n",
      "|             Romania|       United States|    14|\n",
      "|             Ukraine|       United States|    14|\n",
      "|       United States|          Cape Verde|    14|\n",
      "|              Angola|       United States|    15|\n",
      "|               Egypt|       United States|    15|\n",
      "|             Morocco|       United States|    15|\n",
      "|       United States|              Latvia|    15|\n",
      "|       United States|             Romania|    15|\n",
      "|               Ghana|       United States|    18|\n",
      "|             Bahrain|       United States|    19|\n",
      "|              Latvia|       United States|    19|\n",
      "|       United States|             Morocco|    19|\n",
      "|          Cape Verde|       United States|    20|\n",
      "|            Dominica|       United States|    20|\n",
      "|       United States|               Ghana|    20|\n",
      "|          Azerbaijan|       United States|    21|\n",
      "|       United States|          Azerbaijan|    21|\n",
      "|       United States|              Greece|    23|\n",
      "|                Fiji|       United States|    24|\n",
      "|               Samoa|       United States|    25|\n",
      "|       United States|               Samoa|    25|\n",
      "|       United States|                Fiji|    25|\n",
      "|             Finland|       United States|    26|\n",
      "|            Kiribati|       United States|    26|\n",
      "|       United States|            Dominica|    27|\n",
      "|       United States|              Kuwait|    28|\n",
      "|       United States|             Finland|    28|\n",
      "|             Bolivia|       United States|    30|\n",
      "|              Greece|       United States|    30|\n",
      "|               Palau|       United States|    30|\n",
      "|       United States|               Palau|    31|\n",
      "|              Kuwait|       United States|    32|\n",
      "|              Poland|       United States|    32|\n",
      "|       United States|              Poland|    33|\n",
      "|       United States|            Suriname|    34|\n",
      "|       United States|            Kiribati|    35|\n",
      "|        South Africa|       United States|    36|\n",
      "|       United States|            Anguilla|    38|\n",
      "|    Saint Barthelemy|       United States|    39|\n",
      "|       United States|    Marshall Islands|    39|\n",
      "|             Senegal|       United States|    40|\n",
      "|       United States|    French Polynesia|    40|\n",
      "|       United States|        South Africa|    40|\n",
      "|            Anguilla|       United States|    41|\n",
      "|       United States|    Saint Barthelemy|    41|\n",
      "|    Marshall Islands|       United States|    42|\n",
      "|       United States|             Senegal|    42|\n",
      "|    French Polynesia|       United States|    43|\n",
      "|       United States|          Martinique|    43|\n",
      "|             Uruguay|       United States|    43|\n",
      "|              Jordan|       United States|    44|\n",
      "|          Martinique|       United States|    44|\n",
      "|       United States|              Jordan|    44|\n",
      "|       United States|             Nigeria|    50|\n",
      "|             Grenada|       United States|    53|\n",
      "|          Guadeloupe|       United States|    56|\n",
      "|Bonaire, Sint Eus...|       United States|    58|\n",
      "|             Nigeria|       United States|    59|\n",
      "|       United States|Bonaire, Sint Eus...|    59|\n",
      "|       United States|          Guadeloupe|    59|\n",
      "|            Paraguay|       United States|    60|\n",
      "|               India|       United States|    61|\n",
      "|             Austria|       United States|    62|\n",
      "|       United States|               India|    62|\n",
      "|       United States|             Grenada|    62|\n",
      "|       United States|              Guyana|    63|\n",
      "|       United States|             Austria|    63|\n",
      "|              Guyana|       United States|    64|\n",
      "|Federated States ...|       United States|    69|\n",
      "|       United States|Federated States ...|    69|\n",
      "|       United States|        Saudi Arabia|    70|\n",
      "|       United States|         New Zealand|    74|\n",
      "|       United States|British Virgin Is...|    80|\n",
      "|        Saudi Arabia|       United States|    83|\n",
      "|       United States|             Curacao|    83|\n",
      "|             Curacao|       United States|    90|\n",
      "|British Virgin Is...|       United States|   107|\n",
      "|               Qatar|       United States|   108|\n",
      "|       United States|               Qatar|   109|\n",
      "|         New Zealand|       United States|   111|\n",
      "|       United States|              Norway|   115|\n",
      "|       United States| Antigua and Barbuda|   117|\n",
      "|              Sweden|       United States|   118|\n",
      "|       United States|              Sweden|   119|\n",
      "|              Norway|       United States|   121|\n",
      "|         Saint Lucia|       United States|   123|\n",
      "| Antigua and Barbuda|       United States|   126|\n",
      "|       United States|         Philippines|   126|\n",
      "|            Portugal|       United States|   127|\n",
      "|       United States|              Israel|   127|\n",
      "|       United States|              Turkey|   129|\n",
      "|       United States|            Barbados|   130|\n",
      "|              Israel|       United States|   134|\n",
      "|         Philippines|       United States|   134|\n",
      "|       United States|            Portugal|   134|\n",
      "|       United States|          Luxembourg|   134|\n",
      "|       United States|         Saint Lucia|   136|\n",
      "|              Turkey|       United States|   138|\n",
      "|Saint Kitts and N...|       United States|   139|\n",
      "|       United States|           Argentina|   141|\n",
      "|       United States|Saint Kitts and N...|   145|\n",
      "|       United States|             Denmark|   152|\n",
      "|             Denmark|       United States|   153|\n",
      "|            Barbados|       United States|   154|\n",
      "|          Luxembourg|       United States|   155|\n",
      "|       United States|              Russia|   161|\n",
      "|               Chile|       United States|   174|\n",
      "|              Russia|       United States|   176|\n",
      "|           Nicaragua|       United States|   179|\n",
      "|           Argentina|       United States|   180|\n",
      "|             Iceland|       United States|   181|\n",
      "|             Bermuda|       United States|   183|\n",
      "|       United States|               Chile|   185|\n",
      "|              Belize|       United States|   188|\n",
      "|       United States|              Belize|   193|\n",
      "|       United States|             Bermuda|   193|\n",
      "|       United States|           Nicaragua|   201|\n",
      "|       United States|             Iceland|   202|\n",
      "| Trinidad and Tobago|       United States|   211|\n",
      "|       United States| Trinidad and Tobago|   217|\n",
      "|       United States|               Haiti|   225|\n",
      "|               Haiti|       United States|   226|\n",
      "|       United States|             Belgium|   228|\n",
      "|Turks and Caicos ...|       United States|   230|\n",
      "|       United States|              Taiwan|   235|\n",
      "|       United States|Turks and Caicos ...|   236|\n",
      "|       United States|           Venezuela|   246|\n",
      "|       United States|           Australia|   258|\n",
      "|             Belgium|       United States|   259|\n",
      "|              Taiwan|       United States|   266|\n",
      "|             Ecuador|       United States|   268|\n",
      "|                Peru|       United States|   279|\n",
      "|           Venezuela|       United States|   290|\n",
      "|         Switzerland|       United States|   294|\n",
      "|       United States|             Ecuador|   300|\n",
      "|       United States|         Switzerland|   305|\n",
      "|       United States|      Cayman Islands|   310|\n",
      "|       United States|United Arab Emirates|   313|\n",
      "|      Cayman Islands|       United States|   314|\n",
      "|       United States|           Guatemala|   318|\n",
      "|United Arab Emirates|       United States|   320|\n",
      "|        Sint Maarten|       United States|   325|\n",
      "|       United States|        Sint Maarten|   325|\n",
      "|           Australia|       United States|   329|\n",
      "|           Hong Kong|       United States|   332|\n",
      "|             Ireland|       United States|   335|\n",
      "|       United States|                Peru|   337|\n",
      "|       United States|               Aruba|   342|\n",
      "|       United States|             Ireland|   344|\n",
      "|               Aruba|       United States|   346|\n",
      "|            Honduras|       United States|   362|\n",
      "|               Italy|       United States|   382|\n",
      "|           Guatemala|       United States|   397|\n",
      "|       United States|            Honduras|   407|\n",
      "|       United States|           Hong Kong|   414|\n",
      "|               Spain|       United States|   420|\n",
      "|       United States|               Italy|   438|\n",
      "|       United States|               Spain|   442|\n",
      "|       United States|              Panama|   465|\n",
      "|                Cuba|       United States|   466|\n",
      "|       United States|                Cuba|   478|\n",
      "|       United States|         El Salvador|   508|\n",
      "|              Panama|       United States|   510|\n",
      "|         El Salvador|       United States|   561|\n",
      "|          Costa Rica|       United States|   588|\n",
      "|       United States|          Costa Rica|   608|\n",
      "|       United States|              Brazil|   619|\n",
      "|       United States|         Netherlands|   660|\n",
      "|             Jamaica|       United States|   666|\n",
      "|       United States|             Jamaica|   712|\n",
      "|               China|       United States|   772|\n",
      "|         Netherlands|       United States|   776|\n",
      "|       United States|         South Korea|   827|\n",
      "|              Brazil|       United States|   853|\n",
      "|       United States|            Colombia|   867|\n",
      "|            Colombia|       United States|   873|\n",
      "|       United States|               China|   920|\n",
      "|              France|       United States|   935|\n",
      "|       United States|              France|   952|\n",
      "|         The Bahamas|       United States|   955|\n",
      "|       United States|         The Bahamas|   986|\n",
      "|         South Korea|       United States|  1048|\n",
      "|       United States|             Germany|  1336|\n",
      "|  Dominican Republic|       United States|  1353|\n",
      "|       United States|  Dominican Republic|  1420|\n",
      "|             Germany|       United States|  1468|\n",
      "|       United States|               Japan|  1496|\n",
      "|               Japan|       United States|  1548|\n",
      "|       United States|      United Kingdom|  1970|\n",
      "|      United Kingdom|       United States|  2025|\n",
      "|              Mexico|       United States|  7140|\n",
      "|       United States|              Mexico|  7187|\n",
      "|              Canada|       United States|  8399|\n",
      "|       United States|              Canada|  8483|\n",
      "|       United States|       United States|370002|\n",
      "+--------------------+--------------------+------+\n",
      "\n"
     ]
    }
   ],
   "source": [
    "df.orderBy(\"count\", \"DEST_COUNTRY_NAME\").show(2000)"
   ]
  },
  {
   "cell_type": "code",
   "execution_count": 101,
   "id": "0a058bf0",
   "metadata": {},
   "outputs": [
    {
     "name": "stdout",
     "output_type": "stream",
     "text": [
      "+--------------------+--------------------+------+\n",
      "|   DEST_COUNTRY_NAME| ORIGIN_COUNTRY_NAME| count|\n",
      "+--------------------+--------------------+------+\n",
      "|        Burkina Faso|       United States|     1|\n",
      "|       Cote d'Ivoire|       United States|     1|\n",
      "|              Cyprus|       United States|     1|\n",
      "|            Djibouti|       United States|     1|\n",
      "|           Indonesia|       United States|     1|\n",
      "|                Iraq|       United States|     1|\n",
      "|              Kosovo|       United States|     1|\n",
      "|               Malta|       United States|     1|\n",
      "|             Moldova|       United States|     1|\n",
      "|       New Caledonia|       United States|     1|\n",
      "|Saint Vincent and...|       United States|     1|\n",
      "|            Suriname|       United States|     1|\n",
      "|       United States|             Estonia|     1|\n",
      "|       United States|              Cyprus|     1|\n",
      "|       United States|           Lithuania|     1|\n",
      "|       United States|            Bulgaria|     1|\n",
      "|       United States|             Georgia|     1|\n",
      "|       United States|             Bahrain|     1|\n",
      "|       United States|    Papua New Guinea|     1|\n",
      "|       United States|          Montenegro|     1|\n",
      "|       United States|             Namibia|     1|\n",
      "|       United States|             Croatia|     1|\n",
      "|       United States|           Singapore|     1|\n",
      "|       United States|           Gibraltar|     1|\n",
      "|              Zambia|       United States|     1|\n",
      "|             Croatia|       United States|     2|\n",
      "|             Georgia|       United States|     2|\n",
      "|           Greenland|       United States|     2|\n",
      "|             Hungary|       United States|     2|\n",
      "|             Liberia|       United States|     2|\n",
      "|            Malaysia|       United States|     2|\n",
      "|               Niger|       United States|     2|\n",
      "|       United States|             Vietnam|     2|\n",
      "|       United States|           Indonesia|     2|\n",
      "|       United States|             Liberia|     2|\n",
      "|       United States|               Malta|     2|\n",
      "|            Bulgaria|       United States|     3|\n",
      "|    Papua New Guinea|       United States|     3|\n",
      "|           Singapore|       United States|     3|\n",
      "|            Thailand|       United States|     3|\n",
      "|             Tunisia|       United States|     3|\n",
      "|       United States|            Malaysia|     3|\n",
      "|       United States|             Hungary|     3|\n",
      "|             Algeria|       United States|     4|\n",
      "|       United States|            Thailand|     4|\n",
      "|       United States|           Greenland|     4|\n",
      "|       French Guiana|       United States|     5|\n",
      "|       United States|            Paraguay|     6|\n",
      "|            Pakistan|       United States|    12|\n",
      "|       United States|               Egypt|    12|\n",
      "|       United States|            Ethiopia|    12|\n",
      "|       United States|            Pakistan|    12|\n",
      "|       United States|      Czech Republic|    12|\n",
      "|        Cook Islands|       United States|    13|\n",
      "|      Czech Republic|       United States|    13|\n",
      "|            Ethiopia|       United States|    13|\n",
      "|       United States|              Angola|    13|\n",
      "|       United States|             Ukraine|    13|\n",
      "|       United States|             Bolivia|    13|\n",
      "|       United States|        Cook Islands|    13|\n",
      "|       United States|             Uruguay|    13|\n",
      "|             Romania|       United States|    14|\n",
      "|             Ukraine|       United States|    14|\n",
      "|       United States|          Cape Verde|    14|\n",
      "|              Angola|       United States|    15|\n",
      "|               Egypt|       United States|    15|\n",
      "|             Morocco|       United States|    15|\n",
      "|       United States|              Latvia|    15|\n",
      "|       United States|             Romania|    15|\n",
      "|               Ghana|       United States|    18|\n",
      "|             Bahrain|       United States|    19|\n",
      "|              Latvia|       United States|    19|\n",
      "|       United States|             Morocco|    19|\n",
      "|          Cape Verde|       United States|    20|\n",
      "|            Dominica|       United States|    20|\n",
      "|       United States|               Ghana|    20|\n",
      "|          Azerbaijan|       United States|    21|\n",
      "|       United States|          Azerbaijan|    21|\n",
      "|       United States|              Greece|    23|\n",
      "|                Fiji|       United States|    24|\n",
      "|               Samoa|       United States|    25|\n",
      "|       United States|               Samoa|    25|\n",
      "|       United States|                Fiji|    25|\n",
      "|             Finland|       United States|    26|\n",
      "|            Kiribati|       United States|    26|\n",
      "|       United States|            Dominica|    27|\n",
      "|       United States|              Kuwait|    28|\n",
      "|       United States|             Finland|    28|\n",
      "|             Bolivia|       United States|    30|\n",
      "|              Greece|       United States|    30|\n",
      "|               Palau|       United States|    30|\n",
      "|       United States|               Palau|    31|\n",
      "|              Kuwait|       United States|    32|\n",
      "|              Poland|       United States|    32|\n",
      "|       United States|              Poland|    33|\n",
      "|       United States|            Suriname|    34|\n",
      "|       United States|            Kiribati|    35|\n",
      "|        South Africa|       United States|    36|\n",
      "|       United States|            Anguilla|    38|\n",
      "|    Saint Barthelemy|       United States|    39|\n",
      "|       United States|    Marshall Islands|    39|\n",
      "|             Senegal|       United States|    40|\n",
      "|       United States|    French Polynesia|    40|\n",
      "|       United States|        South Africa|    40|\n",
      "|            Anguilla|       United States|    41|\n",
      "|       United States|    Saint Barthelemy|    41|\n",
      "|    Marshall Islands|       United States|    42|\n",
      "|       United States|             Senegal|    42|\n",
      "|    French Polynesia|       United States|    43|\n",
      "|       United States|          Martinique|    43|\n",
      "|             Uruguay|       United States|    43|\n",
      "|              Jordan|       United States|    44|\n",
      "|          Martinique|       United States|    44|\n",
      "|       United States|              Jordan|    44|\n",
      "|       United States|             Nigeria|    50|\n",
      "|             Grenada|       United States|    53|\n",
      "|          Guadeloupe|       United States|    56|\n",
      "|Bonaire, Sint Eus...|       United States|    58|\n",
      "|             Nigeria|       United States|    59|\n",
      "|       United States|Bonaire, Sint Eus...|    59|\n",
      "|       United States|          Guadeloupe|    59|\n",
      "|            Paraguay|       United States|    60|\n",
      "|               India|       United States|    61|\n",
      "|             Austria|       United States|    62|\n",
      "|       United States|               India|    62|\n",
      "|       United States|             Grenada|    62|\n",
      "|       United States|              Guyana|    63|\n",
      "|       United States|             Austria|    63|\n",
      "|              Guyana|       United States|    64|\n",
      "|Federated States ...|       United States|    69|\n",
      "|       United States|Federated States ...|    69|\n",
      "|       United States|        Saudi Arabia|    70|\n",
      "|       United States|         New Zealand|    74|\n",
      "|       United States|British Virgin Is...|    80|\n",
      "|        Saudi Arabia|       United States|    83|\n",
      "|       United States|             Curacao|    83|\n",
      "|             Curacao|       United States|    90|\n",
      "|British Virgin Is...|       United States|   107|\n",
      "|               Qatar|       United States|   108|\n",
      "|       United States|               Qatar|   109|\n",
      "|         New Zealand|       United States|   111|\n",
      "|       United States|              Norway|   115|\n",
      "|       United States| Antigua and Barbuda|   117|\n",
      "|              Sweden|       United States|   118|\n",
      "|       United States|              Sweden|   119|\n",
      "|              Norway|       United States|   121|\n",
      "|         Saint Lucia|       United States|   123|\n",
      "| Antigua and Barbuda|       United States|   126|\n",
      "|       United States|         Philippines|   126|\n",
      "|            Portugal|       United States|   127|\n",
      "|       United States|              Israel|   127|\n",
      "|       United States|              Turkey|   129|\n",
      "|       United States|            Barbados|   130|\n",
      "|              Israel|       United States|   134|\n",
      "|         Philippines|       United States|   134|\n",
      "|       United States|            Portugal|   134|\n",
      "|       United States|          Luxembourg|   134|\n",
      "|       United States|         Saint Lucia|   136|\n",
      "|              Turkey|       United States|   138|\n",
      "|Saint Kitts and N...|       United States|   139|\n",
      "|       United States|           Argentina|   141|\n",
      "|       United States|Saint Kitts and N...|   145|\n",
      "|       United States|             Denmark|   152|\n",
      "|             Denmark|       United States|   153|\n",
      "|            Barbados|       United States|   154|\n",
      "|          Luxembourg|       United States|   155|\n",
      "|       United States|              Russia|   161|\n",
      "|               Chile|       United States|   174|\n",
      "|              Russia|       United States|   176|\n",
      "|           Nicaragua|       United States|   179|\n",
      "|           Argentina|       United States|   180|\n",
      "|             Iceland|       United States|   181|\n",
      "|             Bermuda|       United States|   183|\n",
      "|       United States|               Chile|   185|\n",
      "|              Belize|       United States|   188|\n",
      "|       United States|              Belize|   193|\n",
      "|       United States|             Bermuda|   193|\n",
      "|       United States|           Nicaragua|   201|\n",
      "|       United States|             Iceland|   202|\n",
      "| Trinidad and Tobago|       United States|   211|\n",
      "|       United States| Trinidad and Tobago|   217|\n",
      "|       United States|               Haiti|   225|\n",
      "|               Haiti|       United States|   226|\n",
      "|       United States|             Belgium|   228|\n",
      "|Turks and Caicos ...|       United States|   230|\n",
      "|       United States|              Taiwan|   235|\n",
      "|       United States|Turks and Caicos ...|   236|\n",
      "|       United States|           Venezuela|   246|\n",
      "|       United States|           Australia|   258|\n",
      "|             Belgium|       United States|   259|\n",
      "|              Taiwan|       United States|   266|\n",
      "|             Ecuador|       United States|   268|\n",
      "|                Peru|       United States|   279|\n",
      "|           Venezuela|       United States|   290|\n",
      "|         Switzerland|       United States|   294|\n",
      "|       United States|             Ecuador|   300|\n",
      "|       United States|         Switzerland|   305|\n",
      "|       United States|      Cayman Islands|   310|\n",
      "|       United States|United Arab Emirates|   313|\n",
      "|      Cayman Islands|       United States|   314|\n",
      "|       United States|           Guatemala|   318|\n",
      "|United Arab Emirates|       United States|   320|\n",
      "|        Sint Maarten|       United States|   325|\n",
      "|       United States|        Sint Maarten|   325|\n",
      "|           Australia|       United States|   329|\n",
      "|           Hong Kong|       United States|   332|\n",
      "|             Ireland|       United States|   335|\n",
      "|       United States|                Peru|   337|\n",
      "|       United States|               Aruba|   342|\n",
      "|       United States|             Ireland|   344|\n",
      "|               Aruba|       United States|   346|\n",
      "|            Honduras|       United States|   362|\n",
      "|               Italy|       United States|   382|\n",
      "|           Guatemala|       United States|   397|\n",
      "|       United States|            Honduras|   407|\n",
      "|       United States|           Hong Kong|   414|\n",
      "|               Spain|       United States|   420|\n",
      "|       United States|               Italy|   438|\n",
      "|       United States|               Spain|   442|\n",
      "|       United States|              Panama|   465|\n",
      "|                Cuba|       United States|   466|\n",
      "|       United States|                Cuba|   478|\n",
      "|       United States|         El Salvador|   508|\n",
      "|              Panama|       United States|   510|\n",
      "|         El Salvador|       United States|   561|\n",
      "|          Costa Rica|       United States|   588|\n",
      "|       United States|          Costa Rica|   608|\n",
      "|       United States|              Brazil|   619|\n",
      "|       United States|         Netherlands|   660|\n",
      "|             Jamaica|       United States|   666|\n",
      "|       United States|             Jamaica|   712|\n",
      "|               China|       United States|   772|\n",
      "|         Netherlands|       United States|   776|\n",
      "|       United States|         South Korea|   827|\n",
      "|              Brazil|       United States|   853|\n",
      "|       United States|            Colombia|   867|\n",
      "|            Colombia|       United States|   873|\n",
      "|       United States|               China|   920|\n",
      "|              France|       United States|   935|\n",
      "|       United States|              France|   952|\n",
      "|         The Bahamas|       United States|   955|\n",
      "|       United States|         The Bahamas|   986|\n",
      "|         South Korea|       United States|  1048|\n",
      "|       United States|             Germany|  1336|\n",
      "|  Dominican Republic|       United States|  1353|\n",
      "|       United States|  Dominican Republic|  1420|\n",
      "|             Germany|       United States|  1468|\n",
      "|       United States|               Japan|  1496|\n",
      "|               Japan|       United States|  1548|\n",
      "|       United States|      United Kingdom|  1970|\n",
      "|      United Kingdom|       United States|  2025|\n",
      "|              Mexico|       United States|  7140|\n",
      "|       United States|              Mexico|  7187|\n",
      "|              Canada|       United States|  8399|\n",
      "|       United States|              Canada|  8483|\n",
      "|       United States|       United States|370002|\n",
      "+--------------------+--------------------+------+\n",
      "\n"
     ]
    }
   ],
   "source": [
    "df.orderBy(col(\"count\"), col(\"DEST_COUNTRY_NAME\")).show(2000)"
   ]
  },
  {
   "cell_type": "markdown",
   "id": "7541bdd2",
   "metadata": {},
   "source": [
    "정렬 기준을 명확히 지정하려면 asc나 desc 함수를 사용한다."
   ]
  },
  {
   "cell_type": "code",
   "execution_count": 102,
   "id": "b0818c26",
   "metadata": {},
   "outputs": [
    {
     "name": "stdout",
     "output_type": "stream",
     "text": [
      "+-----------------+-------------------+-----+\n",
      "|DEST_COUNTRY_NAME|ORIGIN_COUNTRY_NAME|count|\n",
      "+-----------------+-------------------+-----+\n",
      "|          Moldova|      United States|    1|\n",
      "|    United States|            Croatia|    1|\n",
      "+-----------------+-------------------+-----+\n",
      "only showing top 2 rows\n",
      "\n",
      "+------------------+-------------------+------+\n",
      "| DEST_COUNTRY_NAME|ORIGIN_COUNTRY_NAME| count|\n",
      "+------------------+-------------------+------+\n",
      "|     United States|      United States|370002|\n",
      "|     United States|             Canada|  8483|\n",
      "|            Canada|      United States|  8399|\n",
      "|     United States|             Mexico|  7187|\n",
      "|            Mexico|      United States|  7140|\n",
      "|    United Kingdom|      United States|  2025|\n",
      "|     United States|     United Kingdom|  1970|\n",
      "|             Japan|      United States|  1548|\n",
      "|     United States|              Japan|  1496|\n",
      "|           Germany|      United States|  1468|\n",
      "|     United States| Dominican Republic|  1420|\n",
      "|Dominican Republic|      United States|  1353|\n",
      "|     United States|            Germany|  1336|\n",
      "|       South Korea|      United States|  1048|\n",
      "|     United States|        The Bahamas|   986|\n",
      "|       The Bahamas|      United States|   955|\n",
      "|     United States|             France|   952|\n",
      "|            France|      United States|   935|\n",
      "|     United States|              China|   920|\n",
      "|          Colombia|      United States|   873|\n",
      "+------------------+-------------------+------+\n",
      "only showing top 20 rows\n",
      "\n"
     ]
    }
   ],
   "source": [
    "from pyspark.sql.functions import desc, asc\n",
    "df.orderBy(expr(\"count dessc\")).show(2)\n",
    "df.orderBy(col(\"count\").desc(), col(\"DEST_COUNTRY_NAME\").asc()).show()"
   ]
  },
  {
   "cell_type": "markdown",
   "id": "3b1b181c",
   "metadata": {},
   "source": [
    "asc_nulls_first, desc_nulls_first, asc_nulls_last, desc_nulls_last 메서드를 사용해 DataFrame에서 null 값이 표시되는 기준을 정할 수 있다.\n",
    "\n",
    "트랜스포메이션을 처리하기 전에 성능을 최적화하기 위해 파티션별 정렬을 수행하기도 한다. 파티션별 정렬은 sortWithinPartitions 메소드로 할 수 이다.\n"
   ]
  },
  {
   "cell_type": "code",
   "execution_count": 104,
   "id": "ae52b6ec",
   "metadata": {},
   "outputs": [
    {
     "data": {
      "text/plain": [
       "DataFrame[DEST_COUNTRY_NAME: string, ORIGIN_COUNTRY_NAME: string, count: bigint]"
      ]
     },
     "execution_count": 104,
     "metadata": {},
     "output_type": "execute_result"
    }
   ],
   "source": [
    "spark.read.format(\"json\").load(\"./data/flight-data/json/*-summary.json\").sortWithinPartitions(\"count\")"
   ]
  },
  {
   "cell_type": "markdown",
   "id": "cc0eb3de",
   "metadata": {},
   "source": [
    "### 로우 수 제한하기\n",
    "`limit` 메서드를 이용해 추출 로우수를 제한"
   ]
  },
  {
   "cell_type": "code",
   "execution_count": 107,
   "id": "f395d6af",
   "metadata": {},
   "outputs": [
    {
     "name": "stdout",
     "output_type": "stream",
     "text": [
      "+--------------------------------+-------------------+-----+\n",
      "|DEST_COUNTRY_NAME               |ORIGIN_COUNTRY_NAME|count|\n",
      "+--------------------------------+-------------------+-----+\n",
      "|Malta                           |United States      |1    |\n",
      "|Saint Vincent and the Grenadines|United States      |1    |\n",
      "|United States                   |Croatia            |1    |\n",
      "|United States                   |Gibraltar          |1    |\n",
      "|United States                   |Singapore          |1    |\n",
      "+--------------------------------+-------------------+-----+\n",
      "\n"
     ]
    }
   ],
   "source": [
    "df.orderBy(expr(\"count desc\")).limit(5).show(10,False)"
   ]
  },
  {
   "cell_type": "markdown",
   "id": "9c642b60",
   "metadata": {},
   "source": [
    "### repartition과 coalesce\n",
    "또다른 최적화 기법은 자주 필터링하는 컬럼을 기준으로 데이터를 분할하는 것이다. 이를 통해 파티셔닝 스키마와 파티션 수를 포함해 클러스터 전반의 물리적 데이터 구성을 제어할 수 있다.\n",
    "\n",
    "`repartition` 메서드를 호출하면 무조건 전체 데이터를 셔플한다. \n",
    "향후에 사용할 파티션 수가 현재 파티션 수보다 많거나 컬럼을 기준으로 파티션을 만드는 경우에만 사용한다."
   ]
  },
  {
   "cell_type": "code",
   "execution_count": 109,
   "id": "edb10400",
   "metadata": {},
   "outputs": [
    {
     "data": {
      "text/plain": [
       "1"
      ]
     },
     "execution_count": 109,
     "metadata": {},
     "output_type": "execute_result"
    }
   ],
   "source": [
    "df.rdd.getNumPartitions()\n"
   ]
  },
  {
   "cell_type": "code",
   "execution_count": 110,
   "id": "bf87c1e4",
   "metadata": {},
   "outputs": [
    {
     "data": {
      "text/plain": [
       "DataFrame[DEST_COUNTRY_NAME: string, ORIGIN_COUNTRY_NAME: string, count: bigint]"
      ]
     },
     "execution_count": 110,
     "metadata": {},
     "output_type": "execute_result"
    }
   ],
   "source": [
    "df.repartition(5)"
   ]
  },
  {
   "cell_type": "markdown",
   "id": "d7266f81",
   "metadata": {},
   "source": [
    "특정 컬럼을 기준으로 자주 필터링하면 자주 필터링되는 컬럼을 기준으로 파티션을 재분배하는 것이 좋다."
   ]
  },
  {
   "cell_type": "code",
   "execution_count": 111,
   "id": "5cce8c6f",
   "metadata": {},
   "outputs": [
    {
     "data": {
      "text/plain": [
       "DataFrame[DEST_COUNTRY_NAME: string, ORIGIN_COUNTRY_NAME: string, count: bigint]"
      ]
     },
     "execution_count": 111,
     "metadata": {},
     "output_type": "execute_result"
    }
   ],
   "source": [
    "df.repartition(col(\"DEST_COUNTRY_NAME\"))"
   ]
  },
  {
   "cell_type": "markdown",
   "id": "1e6beb1d",
   "metadata": {},
   "source": [
    "선택적으로 파티션 수를 지정할 수 있다."
   ]
  },
  {
   "cell_type": "code",
   "execution_count": 112,
   "id": "d789b5e1",
   "metadata": {},
   "outputs": [
    {
     "data": {
      "text/plain": [
       "DataFrame[DEST_COUNTRY_NAME: string, ORIGIN_COUNTRY_NAME: string, count: bigint]"
      ]
     },
     "execution_count": 112,
     "metadata": {},
     "output_type": "execute_result"
    }
   ],
   "source": [
    "df.repartition(5, col(\"DEST_COUNTRY_NAME\"))"
   ]
  },
  {
   "cell_type": "markdown",
   "id": "fb34dd49",
   "metadata": {},
   "source": [
    "`coalesce` 메서드는 전체 데이터를 셔플하지 않고 파티션을 병합하려는 경우에 사용한다. 다음은 목적지를 기준으로 셔플을 수행해 5개의 파티션으로 나누고, 전체 데이터를 셔플없이 병합하는 예제이다."
   ]
  },
  {
   "cell_type": "code",
   "execution_count": 113,
   "id": "530cc35d",
   "metadata": {},
   "outputs": [
    {
     "data": {
      "text/plain": [
       "DataFrame[DEST_COUNTRY_NAME: string, ORIGIN_COUNTRY_NAME: string, count: bigint]"
      ]
     },
     "execution_count": 113,
     "metadata": {},
     "output_type": "execute_result"
    }
   ],
   "source": [
    "\n",
    "df.repartition(5, col(\"DEST_COUNTRY_NAME\")).coalesce(2)"
   ]
  },
  {
   "cell_type": "markdown",
   "id": "f2915757",
   "metadata": {},
   "source": [
    "### 드라이버로 로우 데이터 수집하기\n",
    "스파크는 드라이버에서 클러스터 상태 정보를 유지한다. 로컬 환경에서 데이터를 다루려면 드라이버로 데이털 수집해야한다.\n",
    "\n",
    "* collect 메서드는 전체 DataFrame의 모든 데이터를 수집하고\n",
    "* take 메서드는 상위 N 개의 로우를 반환한다.\n",
    "* show 메서드는 여러 로우를 보기 좋게 출력한다."
   ]
  },
  {
   "cell_type": "code",
   "execution_count": 114,
   "id": "684509f1",
   "metadata": {},
   "outputs": [
    {
     "data": {
      "text/plain": [
       "[Row(DEST_COUNTRY_NAME='United States', ORIGIN_COUNTRY_NAME='Romania', count=15),\n",
       " Row(DEST_COUNTRY_NAME='United States', ORIGIN_COUNTRY_NAME='Croatia', count=1),\n",
       " Row(DEST_COUNTRY_NAME='United States', ORIGIN_COUNTRY_NAME='Ireland', count=344),\n",
       " Row(DEST_COUNTRY_NAME='Egypt', ORIGIN_COUNTRY_NAME='United States', count=15),\n",
       " Row(DEST_COUNTRY_NAME='United States', ORIGIN_COUNTRY_NAME='India', count=62)]"
      ]
     },
     "execution_count": 114,
     "metadata": {},
     "output_type": "execute_result"
    }
   ],
   "source": [
    "collectDF = df.limit(10)\n",
    "collectDF.take(5) # take 는 정수형 값을 인수로 사용한다."
   ]
  },
  {
   "cell_type": "code",
   "execution_count": 115,
   "id": "4e5a4ab3",
   "metadata": {},
   "outputs": [
    {
     "name": "stdout",
     "output_type": "stream",
     "text": [
      "+-----------------+-------------------+-----+\n",
      "|DEST_COUNTRY_NAME|ORIGIN_COUNTRY_NAME|count|\n",
      "+-----------------+-------------------+-----+\n",
      "|    United States|            Romania|   15|\n",
      "|    United States|            Croatia|    1|\n",
      "|    United States|            Ireland|  344|\n",
      "|            Egypt|      United States|   15|\n",
      "|    United States|              India|   62|\n",
      "|    United States|          Singapore|    1|\n",
      "|    United States|            Grenada|   62|\n",
      "|       Costa Rica|      United States|  588|\n",
      "|          Senegal|      United States|   40|\n",
      "|          Moldova|      United States|    1|\n",
      "+-----------------+-------------------+-----+\n",
      "\n"
     ]
    }
   ],
   "source": [
    "collectDF.show() # 정돈된 형태로 출력한다."
   ]
  },
  {
   "cell_type": "code",
   "execution_count": 116,
   "id": "367b598d",
   "metadata": {},
   "outputs": [
    {
     "name": "stdout",
     "output_type": "stream",
     "text": [
      "+-----------------+-------------------+-----+\n",
      "|DEST_COUNTRY_NAME|ORIGIN_COUNTRY_NAME|count|\n",
      "+-----------------+-------------------+-----+\n",
      "|United States    |Romania            |15   |\n",
      "|United States    |Croatia            |1    |\n",
      "|United States    |Ireland            |344  |\n",
      "+-----------------+-------------------+-----+\n",
      "only showing top 3 rows\n",
      "\n"
     ]
    }
   ],
   "source": [
    "collectDF.show(3,False)"
   ]
  },
  {
   "cell_type": "code",
   "execution_count": 117,
   "id": "7be78a56",
   "metadata": {},
   "outputs": [
    {
     "data": {
      "text/plain": [
       "[Row(DEST_COUNTRY_NAME='United States', ORIGIN_COUNTRY_NAME='Romania', count=15),\n",
       " Row(DEST_COUNTRY_NAME='United States', ORIGIN_COUNTRY_NAME='Croatia', count=1),\n",
       " Row(DEST_COUNTRY_NAME='United States', ORIGIN_COUNTRY_NAME='Ireland', count=344),\n",
       " Row(DEST_COUNTRY_NAME='Egypt', ORIGIN_COUNTRY_NAME='United States', count=15),\n",
       " Row(DEST_COUNTRY_NAME='United States', ORIGIN_COUNTRY_NAME='India', count=62),\n",
       " Row(DEST_COUNTRY_NAME='United States', ORIGIN_COUNTRY_NAME='Singapore', count=1),\n",
       " Row(DEST_COUNTRY_NAME='United States', ORIGIN_COUNTRY_NAME='Grenada', count=62),\n",
       " Row(DEST_COUNTRY_NAME='Costa Rica', ORIGIN_COUNTRY_NAME='United States', count=588),\n",
       " Row(DEST_COUNTRY_NAME='Senegal', ORIGIN_COUNTRY_NAME='United States', count=40),\n",
       " Row(DEST_COUNTRY_NAME='Moldova', ORIGIN_COUNTRY_NAME='United States', count=1)]"
      ]
     },
     "execution_count": 117,
     "metadata": {},
     "output_type": "execute_result"
    }
   ],
   "source": [
    "collectDF.collect()"
   ]
  },
  {
   "cell_type": "markdown",
   "id": "7bff4a75",
   "metadata": {},
   "source": [
    "전체 데이터셋에 대한 반복 처리를 위해 드라이버로 로우를 모으는 또다른 방법 `toLocalIterator` 메서드는 이터레이터로 모든 파티션의 데이터를 드라이버에 전달한다. toLLocalIterator 메서드를 사용해 데이터셋의 파티션을 차례로 반복 처리를 할 수 있다."
   ]
  },
  {
   "cell_type": "code",
   "execution_count": 118,
   "id": "116f8b8a",
   "metadata": {},
   "outputs": [
    {
     "data": {
      "text/plain": [
       "<generator object _local_iterator_from_socket.<locals>.PyLocalIterable.__iter__ at 0x110c6fc80>"
      ]
     },
     "execution_count": 118,
     "metadata": {},
     "output_type": "execute_result"
    }
   ],
   "source": [
    "collectDF.toLocalIterator()"
   ]
  },
  {
   "cell_type": "markdown",
   "id": "324f9bcc",
   "metadata": {},
   "source": [
    "> 드라이버로 모든 데이터 컬렉션을 수집하는 작업은 매우 큰 비용 ( CPU, 메모리, 네트워크 등 ) 이 발생한다. 대규모 데이터셋에 `collect` 명령을 수행하면 드라이버가 비정상적으로 종료될 수 있다.`toLocalIterator` 메서드도 이다.`toLocalIterator`메서드를 사용할 때, 매우 큰 파티션이 있다면 드라이버와 애플리케이션이 비정상적으로 종료될 수 있다. 또한 연산을 병렬로 수행하지 않고 차례로 처리해 매우 큰 처리 비용이 발생한다."
   ]
  },
  {
   "cell_type": "code",
   "execution_count": null,
   "id": "d9bb5621",
   "metadata": {},
   "outputs": [],
   "source": []
  }
 ],
 "metadata": {
  "kernelspec": {
   "display_name": "Python 3",
   "language": "python",
   "name": "python3"
  },
  "language_info": {
   "codemirror_mode": {
    "name": "ipython",
    "version": 3
   },
   "file_extension": ".py",
   "mimetype": "text/x-python",
   "name": "python",
   "nbconvert_exporter": "python",
   "pygments_lexer": "ipython3",
   "version": "3.9.6"
  }
 },
 "nbformat": 4,
 "nbformat_minor": 5
}
