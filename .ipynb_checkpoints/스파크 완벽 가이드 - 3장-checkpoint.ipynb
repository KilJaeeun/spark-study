{
 "cells": [
  {
   "cell_type": "markdown",
   "id": "c2156443",
   "metadata": {},
   "source": [
    "# 3장. 스파크 기능 둘러보기\n",
    "\n",
    "![image.png](attachment:image.png)\n",
    "\n",
    "\n",
    "\n",
    "이 장에서는 다음과 같은 내용을 설명합니다.\n",
    "* spark-submit  명령으로 운영용 어플리케이션 실행\n",
    "* Dataset: 타입 안정성(typr-safe,  타입 세이프)를 제공하는 구조적 API\n",
    "* 구조적 스트리밍\n",
    "* 머신 러닝과 고급 분석\n",
    "* RDD : 스파크의 저수준 API\n",
    "* SparkR\n",
    "* 서드파티 패키지 에코 시스템\n",
    "\n",
    "\n",
    "## 3.1. 운영용 애플리케이션 실행하기\n",
    "\n",
    "\n",
    "스파크를 사용하면 빅데이터 프로그램을 쉽게 개발할 수 있습니다.`spark-submit` 명령을 사용해 대화형 셸에서 개발한 프로그램을 운영용 애플리케이션으로  쉽게 전환할 수 있습니다.\n",
    "* `spark-submit` 명령은 애플리케이션 코드를 클러스터에 전송해 실행시키는 역할을 합니다.\n",
    "    * 실행에 필요한 자원과 실행방식, 다양한 옵션을 지정할 수 있습니다.\n",
    "* Spark 어플리케이션은 스탠드얼론, Mesos, YARN 클러스터 매니저를 이용해 실행됩니다.\n",
    "\n",
    "\n",
    "\n",
    "사용자는 Spark 가 지원하는 프로그래밍 언어로 어플리케이션을 개발한 다음 실행할 수 있다. 가장 간단한 방법은 로컬 머신에서 어플리케이션을 실행하는 겁니다. Spark 어플리케이션 예제를 실행해보겠다.\n",
    "\n",
    "`./bin/spark-submit --class org.apache.spark.examples.SparkPi --master local  examples/jars/spark-examples_2.12-3.1.2.jar  10`\n",
    "위 스칼라 어플리케이션 예제는 π값을 계산합니다.\n",
    "\n",
    "다음은 파이썬으로 작성한 애플리케이션을 실행하는 예제이다.\n",
    "`./bin/spark-submit  --master local examples/src/main/python/pi.py 10`\n",
    "`spark-submit` 명령 중  master 옵션의 인수를 변경하면 스파크가 지원하는 스파크 스탠드얼론, 메소스, YARN 에서 동일한 애플리케이션을 실행할 수 있다.\n",
    "\n",
    "---\n",
    "## 3.2. Dataset: 타입 안정성을 제공하는 구조적 API\n",
    "\n",
    "* Dataset은 자바와 스칼라의 정적 데이터 타입에 맞는 코드, 즉, 정적 타입 코드(Statically Typed Code)를 지원하기 위해 고안된 Spark 의 구조적 API 이다.  Dataset은 타입 안정성을 지원하고, 동적타입 언어인 Python 과 R에서는 사용할 수 없다.\n",
    "\n",
    "* DataFrame은 다양한 데이터타입의 테이블형 데이터를 보관할 수 있는 Row 타입의 객체로 구성된 분산 컬렉션입니다. Dataset API 는 DataFrame의 레코드를 사용자가 Java나 스칼라로 정의한 클래스에 할당하고, 자바의 ArrayList 또는 스칼라의 Seq 객체 등의 고정 타입형 컬렉션으로 다룰 수 있는 기능을 제공한다.\n",
    "\n",
    "* Dataset API 는 **타입 안정성**을 지원하므로 초기화에 사용한 클래스 대신 다른 클래스를 사용해 접근할 수 없다. \n",
    "\n",
    "* Dataset 클래스는 내부 객체의 데이터타입을  매개변수로 사용합니다. 예를 들어 `Dataset[Person]`은 `Person`클래스의 객체만 가질 수 있다. Spark 2.0 에서의 자바의 JavaBean 패턴과 스칼라의 케이스 클래스 유형으로 정의된 클래스를 지원한다. \n",
    "\n",
    "* Dataset은 필요한 경우 선택적으로 사용할 수 있다. 예를 들어 아래 예제와 같이 데이터 타입을 정의하고 map, filter 함수를 사용할 수 있다. Spark 는 처리를 마치고 결과를 DataFrame으로 자동 변환해 반환합니다. 또한, Spark가 제공하는 여러 함수를 이용해 추가 작업을 할 수 있다.\n",
    "\n",
    "아래 예제는 타입 안정성 함수와 DataFrame을 사용해 비즈니스 로직을 신속하게 작성하는 방법을 보여주는 예이다.\n",
    "\n",
    "```\n",
    "// in Scala\n",
    "case class Flight(DEST_COUNTRY_NAME: String,\n",
    "                  ORIGIN_COUNTRY_NAME: String,\n",
    "                  count: BigInt)\n",
    "val flightsDF = spark.read\n",
    "  .parquet(\"/data/flight-data/parquet/2010-summary.parquet/\")\n",
    "val flights = flightsDF.as[Flight]\n",
    "\n",
    "```\n",
    "\n",
    "\n",
    "마지막으로 알아볼 Dataset의 장점은 `collect` 메소드나 `take` 메소드를 호출하면 DataFrame을 구성하는 Row 타입의 객체가 아닌 Dataset에 매개변수로 지정한 타입의 객체를 반환하는 겁니다.\n",
    "따라서 코드의 변경 없이 타입 안정성을 보장할 수 있고, 로컬이나 분산 클러스터 환경에서 데이터를 안전하게 다룰 수 있다.\n",
    "\n",
    "\n",
    "```\n",
    "// in Scala\n",
    "flights\n",
    ".filter(flight_row => flight_row.ORIGIN_COUNTRY_NAME !=\"Canada\")\n",
    ".map(flight_row => flight_row)\n",
    ".take(5)\n",
    "\n",
    "flights.take(5)\n",
    ".filter(flight_row => flight_row.ORIGIN_COUNTRY_NAME !=\"Canada\")\n",
    ".map(fr -> Flight(fr.DEST_COUNTRY_NAME,  fr.ORIGIN_COUNTRY_NAME, fr.count + 5))\n",
    "\n",
    "\n",
    "```\n",
    "\n",
    "## 3.3. 구조적 스트리밍\n",
    "* 구조적 스트리밍은 Spark 2.2 버전에서 안정화된 스트림 처리용 고수준 API이다. 구조적 스트리밍을 사용하면, 구조적 API 로 개발된 배치 모드의 연산을 스트리밍 방식으로 실행되며 지연시간을 줄이고 증분처리 할 수 있다.\n",
    "* 구조적 스트리밍은 배치 처리용 코들 일부 수정해 스트리밍 처리를 수행하고 값을 빠르게 얻을 수 있다.\n",
    "* 또한 프로토타입을 배치 잡으로 개발한 다음 스트리밍 잡으로 변환할 수 있으므로 개념 잡기 수월하다. \n",
    "\n",
    "\n",
    "\n",
    "앞서 설명한 모든 작업은 데이터를 증분 처리해 수행된다.\n",
    "\n",
    "```\n",
    "InvoiceNo,StockCode,Description,Quantity,InvoiceDate,UnitPrice,CustomerID,Country\n",
    "536365,85123A,WHITE HANGING HEART T-LIGHT HOLDER,6,2010-12-01 08:26:00,2.55,17...\n",
    "536365,71053,WHITE METAL LANTERN,6,2010-12-01 08:26:00,3.39,17850.0,United Kin...\n",
    "536365,84406B,CREAM CUPID HEARTS COAT HANGER,8,2010-12-01 08:26:00,2.75,17850...\n",
    "```\n",
    "\n",
    "특정 고객이 대량으로 구매하는 영업 시간을 살펴보겠습니다. 총 구매비용 컬럼을 추가하고 고객이 가장 많이 소비한 날을 찾아보겠습니다.\n",
    "\n",
    "윈도우 함수는 집계 시에 시계열 컬럼을 기준으로 각 날짜에 대한 전체 데이터를 가지는 윈도우를 구성합니다. 윈도우는 간격을 통해 처리 요건을 명시할 수 있기 때문에 날짜와 타임스탬프 처리에 유용합니다. Spark 는 관련 날짜의 데이터를 그룹화합니다.\n",
    "\n",
    "\n",
    "\n",
    "\n",
    "\n",
    "\n",
    "\n"
   ]
  },
  {
   "cell_type": "code",
   "execution_count": 1,
   "id": "fab90d1a",
   "metadata": {},
   "outputs": [
    {
     "data": {
      "text/plain": [
       "StructType(List(StructField(InvoiceNo,StringType,true),StructField(StockCode,StringType,true),StructField(Description,StringType,true),StructField(Quantity,IntegerType,true),StructField(InvoiceDate,StringType,true),StructField(UnitPrice,DoubleType,true),StructField(CustomerID,DoubleType,true),StructField(Country,StringType,true)))"
      ]
     },
     "execution_count": 1,
     "metadata": {},
     "output_type": "execute_result"
    }
   ],
   "source": [
    "staticDataFrame = spark.read.format(\"csv\")\\\n",
    ".option(\"header\", \"true\")\\\n",
    ".option(\"inferSchema\", \"true\")\\\n",
    ".load(\"./data/retail-data/by-day/*.csv\")\n",
    "\n",
    "staticDataFrame.createOrReplaceTempView(\"retail_data\")\n",
    "staticSchema = staticDataFrame.schema\n",
    "staticSchema"
   ]
  },
  {
   "cell_type": "markdown",
   "id": "d44da9f6",
   "metadata": {},
   "source": [
    "\n"
   ]
  },
  {
   "cell_type": "markdown",
   "id": "02baa107",
   "metadata": {},
   "source": [
    "지금은 시계열 데이터를 다루기 때문에  데이터를 그룹화하고 집계하는 방법을 알아보자. 이를 위해 특정고객(CustomerId로 구분한다.)이 대량으로 구매하는 영업시간을 살펴본다. 예를 들어 총 구매 비룔 컬럼을 추가하고 고객이 가장 많이 소비한 날을 찾아본다.\n",
    "\n",
    "\n",
    "\n",
    "\n",
    "\n",
    "윈도우 함수는 집계시에 시계열 컬럼을 기준으로  각 날짜에 대한 전체 데이터를 가지는 윈도우를 구성한다. 윈도우는 간격을 통해 처리하는 처리 요건을 명시할 수 있기 때문에 날짜와 타임스탬프 처리에 유용하다.  스파크는 관련 날짜와 데이터를 그룹화한다."
   ]
  },
  {
   "cell_type": "code",
   "execution_count": 2,
   "id": "cf031f4e",
   "metadata": {},
   "outputs": [
    {
     "name": "stdout",
     "output_type": "stream",
     "text": [
      "+----------+--------------------+-----------------+\n",
      "|CustomerID|              window|  sum(total_cost)|\n",
      "+----------+--------------------+-----------------+\n",
      "|   16057.0|{2011-12-05 09:00...|            -37.6|\n",
      "|   14126.0|{2011-11-29 09:00...|643.6300000000001|\n",
      "|   13500.0|{2011-11-16 09:00...|497.9700000000001|\n",
      "|   17160.0|{2011-11-08 09:00...|516.8499999999999|\n",
      "|   15608.0|{2011-11-11 09:00...|            122.4|\n",
      "+----------+--------------------+-----------------+\n",
      "only showing top 5 rows\n",
      "\n"
     ]
    }
   ],
   "source": [
    "from pyspark.sql.functions import window,col\n",
    "\n",
    "staticDataFrame.selectExpr(\"CustomerID\", \"(UnitPrice * Quantity) as total_cost\", \"InvoiceDate\")\\\n",
    ".groupBy(col(\"CustomerID\"), window(col(\"InvoiceDate\"), \"1 day\")).sum(\"total_cost\").show(5)"
   ]
  },
  {
   "cell_type": "markdown",
   "id": "4cd26392",
   "metadata": {},
   "source": [
    "스트리밍 코드는 그렇게 크게 바뀌지 않는다. 단지, read 메서드 대신 readStream 메소그를 사용하는 것이 가장 큰 차이이다.\n",
    "* maxFilesPerTrigger 옵견으로 추가로 지정합니다.  ➡️ 이 옵션을 사용해 한 번에 읽을 파일 수를 설정할 수 있다.\n",
    "➡️ 운영 환경에서는 적용안하는 것을 권장"
   ]
  },
  {
   "cell_type": "code",
   "execution_count": 3,
   "id": "2b191dbd",
   "metadata": {},
   "outputs": [],
   "source": [
    "spark.conf.set(\"spark.sql.shuffle.partitions\", \"5\") # 셔플 출력 파티션 수 줄이기\n",
    "streamingDataFrame = spark.readStream.schema(staticSchema).option(\"maxFilesPerTrigger\", 1).format(\"csv\").option(\"header\",\"true\")\\\n",
    ".load(\"/data/retail-data/by-day/*.csv\")# maxFilesPerTrigeer 옵션을 지정하면, 한 번에 읽을 파일 수를 설정할 수 있습니다.\n"
   ]
  },
  {
   "cell_type": "code",
   "execution_count": 4,
   "id": "dc350d4a",
   "metadata": {},
   "outputs": [
    {
     "data": {
      "text/plain": [
       "True"
      ]
     },
     "execution_count": 4,
     "metadata": {},
     "output_type": "execute_result"
    }
   ],
   "source": [
    "# DataFrame 이  스트리밍 유형인지 확인\n",
    "streamingDataFrame.isStreaming\n",
    "# isStreaming 은 Dataset이 데이터를 연속적으로 전달하는 데이터 소스라면 true 를 반환한다.\n"
   ]
  },
  {
   "cell_type": "code",
   "execution_count": 5,
   "id": "b6601d45",
   "metadata": {},
   "outputs": [],
   "source": [
    "purchaseByCustomerPerHour = \\\n",
    "streamingDataFrame.selectExpr(\"CustomerID\", \\\n",
    "\"(UnitPrice * Quantity) as total_cost\", \"InvoiceDate\")\\\n",
    ".groupBy(col(\"CustomerID\"), window(col(\"InvoiceDate\"), \"1 day\")).sum(\"total_cost\")                         "
   ]
  },
  {
   "cell_type": "markdown",
   "id": "14776476",
   "metadata": {},
   "source": [
    "이 작업 역시 지연 연산(Lazy Operation) 이므로 데이터 플로를 실행하기 위해 스트리밍 액션을 호출해야한다.\n",
    "스트리밍 액션은 어딘가에 데이터를 채워넣어야 하므로 `count` 메소드와 같은 일반적인 액션과 다른 특성을 가진다. 스트리밍 액션은 트리거(Trigger)가 실행된 다음 데이터가 갱신하게될 인메모리 테이블에 데이터를 저장한다.\n",
    "\n",
    "아래 예제에서 파일마다 트리거를 실행한다. Spark는 집계값보다 더 큰 값이 발생한 경우에만 인메모리 테이블을 갱신해 언제나 큰 값을 얻을 수 있다.\n"
   ]
  },
  {
   "cell_type": "code",
   "execution_count": 6,
   "id": "1be95627",
   "metadata": {},
   "outputs": [
    {
     "data": {
      "text/plain": [
       "<pyspark.sql.streaming.StreamingQuery at 0x115612b20>"
      ]
     },
     "execution_count": 6,
     "metadata": {},
     "output_type": "execute_result"
    }
   ],
   "source": [
    "purchaseByCustomerPerHour.writeStream.format(\"memory\").queryName(\"customer_purchases\").outputMode(\"complete\").start()"
   ]
  },
  {
   "cell_type": "code",
   "execution_count": 7,
   "id": "7e64f63f",
   "metadata": {},
   "outputs": [
    {
     "name": "stdout",
     "output_type": "stream",
     "text": [
      "+----------+------+---------------+\n",
      "|CustomerID|window|sum(total_cost)|\n",
      "+----------+------+---------------+\n",
      "+----------+------+---------------+\n",
      "\n"
     ]
    }
   ],
   "source": [
    "# 스트림이 시작되면 쿼리 실행 결과가 어떠한 형태로 인메모리 테이블에 기록되는지 확인할 수 있다.\n",
    "\n",
    "spark.sql(\"\"\"\n",
    "SELECT *  FROM customer_purchases ORDER BY `sum(total_cost)` DESC\n",
    "\"\"\").show(5)"
   ]
  },
  {
   "cell_type": "markdown",
   "id": "a243dc6d",
   "metadata": {},
   "source": [
    "더 많은 테이블을 읽을수록 테이블 구성이 바뀌는것을 알 수 있습니다. 또한, 상황에 따라 처리 결과를 콘솔에 출력할 수 있습니다."
   ]
  },
  {
   "cell_type": "code",
   "execution_count": 8,
   "id": "8f200250",
   "metadata": {},
   "outputs": [
    {
     "data": {
      "text/plain": [
       "<pyspark.sql.streaming.StreamingQuery at 0x115634250>"
      ]
     },
     "execution_count": 8,
     "metadata": {},
     "output_type": "execute_result"
    }
   ],
   "source": [
    "purchaseByCustomerPerHour.writeStream.format(\"console\").queryName(\"customer_purchases_2\").outputMode(\"complete\").start()"
   ]
  },
  {
   "cell_type": "markdown",
   "id": "c1c8da51",
   "metadata": {},
   "source": [
    "## 3.4. 머신러닝과 고급 분석\n",
    "* MLlib : 내장된 머신러닝 알고리즘 라이브러리 ➡️ 대규모 머신러닝을 수행할 수 잏다.\n",
    "* MLlib 을 사용하면 대용량 데이터를 대상으로 전처리, 멍잉, 모델 학습, 예측을 할 수 있습니다. 구조적 스트리밍에서 예측할 때도 MLlib에서 학습시킨 예측 모델을 사용할 수 있습니다.\n",
    "> 멍잉(munging)은 전처리, 파싱, 필터링과 같이 데이터를 이리저리 핸들링한다는 뜻이다..사실 이 단어는 컴퓨터로 데이터를 처리하는 사람들 사이에서 많이 쓰이는 따끈따끈한 신조어이다.\n",
    "\n",
    "\n",
    "Spark는 분류(Classification), 회귀(Regression), 군집화(Clustering) 그리고 딥러닝(Deep Learning) 까지 머신러닝과 관련된 API 를 제공합니다.\n",
    "\n",
    "k-평균이라는 표준 알고리즘을 이용해 군집화를 수행해보자.\n",
    "> ##### k-평균\n",
    "> 데이터에서 k 개의 중심이 임의로 할당되는 군집화되는 군집화 알고리즘. 중심점에 가까운 점들을 군집에 할당하고, 할당된 점들의 중심을 계산합니다. 이 중심점을 **센트로이드(Centroid)**라 한다. 해당 센트로이드에 가까운 점들의 군집에 레이블이 지정하고, 새로 계산한 중심으로 센트로이드를 이동시킨다. 이 과정을 정해진 횟수나 수렴할 때까지 반복한다.\n",
    "\n",
    "\n",
    "다음 예제는 원본 데이터를 올바른 포맷으로 만드는 트랜스포메이션을 정의하고, 모델을 학습한 뒤, 예측을 수행한다."
   ]
  },
  {
   "cell_type": "code",
   "execution_count": 9,
   "id": "f0a66a6f",
   "metadata": {},
   "outputs": [
    {
     "name": "stdout",
     "output_type": "stream",
     "text": [
      "root\n",
      " |-- InvoiceNo: string (nullable = true)\n",
      " |-- StockCode: string (nullable = true)\n",
      " |-- Description: string (nullable = true)\n",
      " |-- Quantity: integer (nullable = true)\n",
      " |-- InvoiceDate: string (nullable = true)\n",
      " |-- UnitPrice: double (nullable = true)\n",
      " |-- CustomerID: double (nullable = true)\n",
      " |-- Country: string (nullable = true)\n",
      "\n"
     ]
    }
   ],
   "source": [
    "staticDataFrame.printSchema()"
   ]
  },
  {
   "cell_type": "markdown",
   "id": "b3b3948c",
   "metadata": {},
   "source": [
    "다음 예제는 원본 데이터를  올바른 포맷으로 만드는 트랜스포메이션을 정의하고 모델을 학습한 뒤, 예측을 수행한다.\n",
    "\n",
    "MLlib의 머신러닝을 사용하기 위해 수치형 데이터가 필요하다. 예제의 데이터는 타임스탬프, 정수, 문자열 등 다양한 데이터 타입으로 이뤄져있으므로 수치형으로 변환해야한다. 다음은 몇 가지 DataFrame 트랜스포메이션을 사용해 날짜 데이터를 다루는 예제이다."
   ]
  },
  {
   "cell_type": "code",
   "execution_count": 10,
   "id": "4b66239b",
   "metadata": {},
   "outputs": [],
   "source": [
    "from pyspark.sql.functions import date_format, col\n",
    "\n",
    "preparedDataFrame = staticDataFrame.na.fill(0)\\\n",
    "                        .withColumn(\"day_of_week\", date_format(col(\"InvoiceDate\"), \"EEEE\"))\\\n",
    "                        .coalesce(5)"
   ]
  },
  {
   "cell_type": "markdown",
   "id": "e3effcd6",
   "metadata": {},
   "source": [
    "데이터는 학습 데이터셋과 테스트 데이터셋으로 분리해야한다. 예제에서는 특정 구매가 일어난 날짜를 기준으로 직접 분리한다. 또한, MLlib 의 트랜스포메이션 API(TransValidationSplit 이나 CrossValidator)를 사용해 학습 데이터셋과 테스트 데이터셋을 생성할 수 있습니다. "
   ]
  },
  {
   "cell_type": "code",
   "execution_count": 11,
   "id": "60b0bfbe",
   "metadata": {},
   "outputs": [],
   "source": [
    "trainDataFrame =preparedDataFrame\\\n",
    ".where(\"InvoiceDate < '2011-07-01'\")\n",
    "testDataFrame =preparedDataFrame\\\n",
    ".where(\"InvoiceDate >= '2011-07-01'\")\n",
    "# 예제 데이터는 시계열 데이터셋으로 임의 날짜를 기준으로 데이터를 분리합니다. "
   ]
  },
  {
   "cell_type": "code",
   "execution_count": 12,
   "id": "60caca4b",
   "metadata": {},
   "outputs": [
    {
     "data": {
      "text/plain": [
       "245903"
      ]
     },
     "execution_count": 12,
     "metadata": {},
     "output_type": "execute_result"
    }
   ],
   "source": [
    "trainDataFrame.count()"
   ]
  },
  {
   "cell_type": "code",
   "execution_count": 13,
   "id": "81ca049f",
   "metadata": {},
   "outputs": [
    {
     "data": {
      "text/plain": [
       "296006"
      ]
     },
     "execution_count": 13,
     "metadata": {},
     "output_type": "execute_result"
    }
   ],
   "source": [
    "testDataFrame.count()"
   ]
  },
  {
   "cell_type": "markdown",
   "id": "ecec425b",
   "metadata": {},
   "source": [
    "스파크 MLlib은 일반적인 트랜스포메이션을 자동화하는 다양한 트랜스포메이션을 제공합니다. 그 중에 하나는 바로 StringIndexer 이다."
   ]
  },
  {
   "cell_type": "code",
   "execution_count": 14,
   "id": "4024d5f8",
   "metadata": {},
   "outputs": [],
   "source": [
    "from pyspark.ml.feature import StringIndexer\n",
    "indexer = StringIndexer()\\\n",
    "    .setInputCol(\"day_of_week\")\\\n",
    "    .setOutputCol(\"day_of_week_index\")"
   ]
  },
  {
   "cell_type": "code",
   "execution_count": 15,
   "id": "90d23e52",
   "metadata": {},
   "outputs": [
    {
     "data": {
      "text/plain": [
       "StringIndexer_daefbe08eb96"
      ]
     },
     "execution_count": 15,
     "metadata": {},
     "output_type": "execute_result"
    }
   ],
   "source": [
    "indexer "
   ]
  },
  {
   "cell_type": "markdown",
   "id": "127a2573",
   "metadata": {},
   "source": [
    "위 예제는 요일을 수치형으로 반환합니다. 예를 들어 토요일을 6, 월요일을 1로 반환한다. 하지만 이런 번호 지정 체계는 수치로 표현되어 암묵적으로 토요일이 월월요일보다 더 크다는 것을 의미하게 된다. 이것은 잘못된 방식이다. 이 문제점을 보완하기 위해 `OneHotEncoder`를 사용해 각 값을  자체 컬럼으로 인코딩해야한다. 이렇게 하면 특정 요일이 해당요일인지 아닌지 bool 타입으로 나타내게 된다."
   ]
  },
  {
   "cell_type": "code",
   "execution_count": 16,
   "id": "e72e9c90",
   "metadata": {},
   "outputs": [],
   "source": [
    "from pyspark.ml.feature import OneHotEncoder\n",
    "encoder =  OneHotEncoder()\\\n",
    "           .setInputCol(\"day_of_week_index\")\\\n",
    "           .setOutputCol(\"day_of_week_encoded\")\n",
    "\n",
    "# 위 예제 결과는 벡터타입을 구성한 컬럼 중 하나로 사용된다. Spark의 모든 머신러닝 알고리즘은 수치형 벡터 타입을 입력으로 사용한다."
   ]
  },
  {
   "cell_type": "code",
   "execution_count": 17,
   "id": "401fea95",
   "metadata": {},
   "outputs": [],
   "source": [
    "from pyspark.ml.feature import VectorAssembler\n",
    "\n",
    "vectorAssembler   = VectorAssembler()\\\n",
    "           .setInputCols([\"UnitPrice\", \"Quantity\", \"day_of_week_encoded\"])\\\n",
    "           .setOutputCol(\"features\")\n",
    "                    \n",
    "           "
   ]
  },
  {
   "cell_type": "markdown",
   "id": "2c7eb613",
   "metadata": {},
   "source": [
    "위 예제는 세 가지의 핵심 특징인 가격(UnitPrice), 수량(Quantity), 특정 날짜의 요일(day_of_week_encoded) 를 가지고 있습니다. 다음은 낮ㅇ에 입력값으로 들어올 데이터가 같은 프로세스를 거쳐  변환되도록 파이프라인을 설정하는 예제입니다."
   ]
  },
  {
   "cell_type": "code",
   "execution_count": 18,
   "id": "8da03456",
   "metadata": {},
   "outputs": [],
   "source": [
    "from pyspark.ml import Pipeline\n",
    "\n",
    "transformationPipeline = Pipeline()\\\n",
    ".setStages([indexer, encoder,vectorAssembler  ])"
   ]
  },
  {
   "cell_type": "markdown",
   "id": "2319300f",
   "metadata": {},
   "source": [
    "학습 준비 과정은 2 단계로 이뤄집니다. 우선 변환자(Transformer)를 데이터셋에 적합(Fit)시켜야합니다. 기본적으로 `StringIndexer` 는 인덱싱할 고윳값의 수를 알아야합니다. 고윳값의 수를 알 수 있다면 인코딩을 매우 쉽게 할 수 있지만, 만약 알 수 없는 컬럼에 있는 모든 고윳값을 조사하고 인덱싱해야합니다."
   ]
  },
  {
   "cell_type": "code",
   "execution_count": 19,
   "id": "58bf3ff2",
   "metadata": {},
   "outputs": [],
   "source": [
    "fittedPipeline = transformationPipeline.fit(trainDataFrame)"
   ]
  },
  {
   "cell_type": "markdown",
   "id": "84ee5db4",
   "metadata": {},
   "source": [
    "학습 데이터셋에 변환자를 적합시키고 나면 학습을 위한 맞춤 파이프라인이 준비됩니다. 그리고 이것을 사용해 일관되고 반복적인 방식ㅇ로 모든 데이터를 변환할 수 있습니다."
   ]
  },
  {
   "cell_type": "code",
   "execution_count": 20,
   "id": "47a50213",
   "metadata": {},
   "outputs": [],
   "source": [
    "transformedTraining = fittedPipeline.transform(trainDataFrame)"
   ]
  },
  {
   "cell_type": "markdown",
   "id": "bd6600f7",
   "metadata": {},
   "source": [
    "이제 모델 학습에 사용할 파이프라인이 마련되었습니다. 하지만, 데이터 캐싱을 설명하기 위해 파이프라인 구성 과정에서 데이터 캐싱과정을 제외시켰습니다. 캐싱은 4부에서 자세히 알아보겠습니다. 동일한 트랜스포메이션을 계속 반복할 수 없으므로 그 대신 모델에 일부 하이퍼파라미터 튜닝 값을 적용합니다. 캐싱을 사용하면 중간 변환된 데이터셋의 복사본을 메모리에 저장하므로 전체 파이프라인을 재실행하는 것보다 훨씬 빠르게 반복적으로 데이터셋에 접근할 수 있습니다. "
   ]
  },
  {
   "cell_type": "code",
   "execution_count": 21,
   "id": "351f3d4f",
   "metadata": {},
   "outputs": [
    {
     "data": {
      "text/plain": [
       "DataFrame[InvoiceNo: string, StockCode: string, Description: string, Quantity: int, InvoiceDate: string, UnitPrice: double, CustomerID: double, Country: string, day_of_week: string, day_of_week_index: double, day_of_week_encoded: vector, features: vector]"
      ]
     },
     "execution_count": 21,
     "metadata": {},
     "output_type": "execute_result"
    }
   ],
   "source": [
    "transformedTraining.cache()"
   ]
  },
  {
   "cell_type": "markdown",
   "id": "b746b243",
   "metadata": {},
   "source": [
    "학습 데이터셋이 완성되었으므로 모델을 학습할 차례입니다. 머신러닝 모델을 사용하려면 관련 클래스를 임포트하고 인스턴스를 생성해야합니다."
   ]
  },
  {
   "cell_type": "code",
   "execution_count": 22,
   "id": "96087ae8",
   "metadata": {},
   "outputs": [],
   "source": [
    "from pyspark.ml.clustering import KMeans\n",
    "kmeans = KMeans()\\\n",
    "    .setK(20)\\\n",
    "    .setSeed(1)"
   ]
  },
  {
   "cell_type": "markdown",
   "id": "27bc2d2d",
   "metadata": {},
   "source": [
    "스파크에서 머신러닝 모델을 학습시키는 과정은 크게 두 단계로 진행됩니다.  첫번째 단계는  아직 학습하지 않은 모델을 초기화하고, 두 번째단계는 해당 모델을 학습시킵니다. MLlib의 DataFrame API에서 제공하는 모든 알고리즘은 항상 두 가지 유형으로 구성되며 다음과 같은 명명규칙을 따른다.\n",
    "\n",
    "\n",
    "\n",
    "* 학습 전 알고리즘 명칭 : Algorithm (예. KMeans)\n",
    "* 학습 후 알고리즘 명칭 : AlgorithmModel (예. KMeansModel)\n",
    "\n",
    "\n",
    "\n",
    "MLlib의 DataFrame API 에서 제공하는 추정자(estimator)는 앞서 사용한 전처리 변환자(StringIndexer)와 거의 동일한 인터페이스를 가지고 있습니다. 이 인터페이스르르 사용해 전체 파이프라인의 학습 과정을 단순화할 수 있습니다. 이 장의 예제에서는 단계별로 설명하기 윟해 파이프라인에서 kmeans 모델 설정 과정을 생략하겠습니다."
   ]
  },
  {
   "cell_type": "code",
   "execution_count": 23,
   "id": "7d4401c1",
   "metadata": {},
   "outputs": [],
   "source": [
    "kmModel = kmeans.fit(transformedTraining)\n",
    "                     \n",
    "                     "
   ]
  },
  {
   "cell_type": "code",
   "execution_count": 24,
   "id": "7204812b",
   "metadata": {},
   "outputs": [
    {
     "data": {
      "text/plain": [
       "KMeansModel: uid=KMeans_461470af6da4, k=20, distanceMeasure=euclidean, numFeatures=7"
      ]
     },
     "execution_count": 24,
     "metadata": {},
     "output_type": "execute_result"
    }
   ],
   "source": [
    "kmModel"
   ]
  },
  {
   "cell_type": "markdown",
   "id": "f8be3e97",
   "metadata": {},
   "source": [
    "모델 학습이 완료되면, 몇 가지 성과 평가지표에 따라 학습 데이터셋에 대한 비용을 계산할 수 있습니다. 예제에서 사용한 데이터셋의 군집 비용은 상당히 높은 편입니다. 입력 데이터에 대한 전처리와 표준화작업이 적절히 이뤄지지 않았기 때문입니다."
   ]
  },
  {
   "cell_type": "code",
   "execution_count": 33,
   "id": "bcc28d6b",
   "metadata": {},
   "outputs": [
    {
     "ename": "AttributeError",
     "evalue": "'KMeansModel' object has no attribute 'computeCost'",
     "output_type": "error",
     "traceback": [
      "\u001b[0;31m---------------------------------------------------------------------------\u001b[0m",
      "\u001b[0;31mAttributeError\u001b[0m                            Traceback (most recent call last)",
      "\u001b[0;32m<ipython-input-33-4f802593a0e1>\u001b[0m in \u001b[0;36m<module>\u001b[0;34m\u001b[0m\n\u001b[0;32m----> 1\u001b[0;31m \u001b[0mkmModel\u001b[0m\u001b[0;34m.\u001b[0m\u001b[0mcomputeCost\u001b[0m\u001b[0;34m(\u001b[0m\u001b[0mtransformedTraining\u001b[0m\u001b[0;34m)\u001b[0m\u001b[0;34m\u001b[0m\u001b[0;34m\u001b[0m\u001b[0m\n\u001b[0m\u001b[1;32m      2\u001b[0m \u001b[0mtransformedTest\u001b[0m \u001b[0;34m=\u001b[0m \u001b[0mfittedPipeline\u001b[0m\u001b[0;34m.\u001b[0m\u001b[0mtransform\u001b[0m\u001b[0;34m(\u001b[0m\u001b[0mtestDataFrame\u001b[0m\u001b[0;34m)\u001b[0m\u001b[0;34m\u001b[0m\u001b[0;34m\u001b[0m\u001b[0m\n\u001b[1;32m      3\u001b[0m \u001b[0mkmModel\u001b[0m\u001b[0;34m.\u001b[0m\u001b[0mcomputeCost\u001b[0m\u001b[0;34m(\u001b[0m\u001b[0mtransformedTest\u001b[0m\u001b[0;34m)\u001b[0m\u001b[0;34m\u001b[0m\u001b[0;34m\u001b[0m\u001b[0m\n",
      "\u001b[0;31mAttributeError\u001b[0m: 'KMeansModel' object has no attribute 'computeCost'"
     ]
    }
   ],
   "source": [
    "kmModel.computeCost(transformedTraining)\n",
    "transformedTest = fittedPipeline.transform(testDataFrame)\n",
    "kmModel.computeCost(transformedTest)"
   ]
  },
  {
   "cell_type": "markdown",
   "id": "bc1ac0fd",
   "metadata": {},
   "source": [
    "```\n",
    "# Make predictions \n",
    "predictions = model.transform(dataset)\n",
    "from pyspark.ml.evaluation import ClusteringEvaluator\n",
    "# Evaluate clustering by computing Silhouette score\n",
    "evaluator = ClusteringEvaluator()\n",
    "silhouette = evaluator.evaluate(predictions)\n",
    "print(\"Silhouette with squared euclidean distance = \" + str(silhouette))\n",
    "```"
   ]
  },
  {
   "cell_type": "code",
   "execution_count": 27,
   "id": "8f11efa5",
   "metadata": {},
   "outputs": [
    {
     "name": "stdout",
     "output_type": "stream",
     "text": [
      "transformedTrain accuracy = 0.938430826362008\n"
     ]
    }
   ],
   "source": [
    "# Make predictions\n",
    "from pyspark.ml.evaluation import ClusteringEvaluator\n",
    "predictionsTrain = kmModel.transform(transformedTraining)\n",
    "evaluator = ClusteringEvaluator()\n",
    "transformedTrain =  evaluator.evaluate(predictionsTrain)\n",
    "print(\"transformedTrain accuracy = \" + str(transformedTrain))\n"
   ]
  },
  {
   "cell_type": "markdown",
   "id": "f76412f0",
   "metadata": {},
   "source": [
    "## 3.5. 저수준 API"
   ]
  },
  {
   "cell_type": "markdown",
   "id": "47da9baf",
   "metadata": {},
   "source": [
    " Spark는 거의 모든 기능은 RDD기반으로 만들어졌습니다. DataFrame 연산도 RDD 기반으로 만들어져 편리하고 매우 효율적인 분산처리를 위해 저수준 명령으로 컴파일됩니다.\n",
    " \n",
    " 원시데이터를 읽거나 다루는 용도로 RDD를 사용할 수 있지만, 구조적 API를 사용하는 것이 좋습니다. 하지만 RDD를 이용해 파티션과 같은 물리적 실행 특성을 결정할 수 있으므로 DataFrame보다 더 세밀한 제어를 할 수 있습니다.\n",
    " \n",
    "또한 드라이버 시스템의 메모리에 저장된 원시 데이터를 병렬처리하는데 RDD를 사용할 수 있습니다."
   ]
  },
  {
   "cell_type": "code",
   "execution_count": 31,
   "id": "62f3239d",
   "metadata": {},
   "outputs": [
    {
     "data": {
      "text/plain": [
       "DataFrame[_1: bigint]"
      ]
     },
     "execution_count": 31,
     "metadata": {},
     "output_type": "execute_result"
    }
   ],
   "source": [
    "# 숫자를 이용해 병렬화해 RDD를 생성하는 예제.  그런 다음 다른 DataFrame과 함께 사용할 수 있도록 \n",
    "#DataFrame으로 변환한다.\n",
    "\n",
    "from pyspark.sql import Row\n",
    "\n",
    "spark.sparkContext.parallelize([Row(1), Row(2), Row(3)]).toDF()"
   ]
  },
  {
   "cell_type": "markdown",
   "id": "e6e63a70",
   "metadata": {},
   "source": [
    "## 3.6. sparkR\n",
    "관심없어서 패스\n",
    "\n",
    "## 3.7. 스파크의 에코시스템과 패키지\n",
    "스파크가 자랑하는 최고 장점은 커뮤니티가 만들어낸 패키지 에코시스템과 다양한 기능이다.\n",
    "이 기능중 일부는 스파크 코어 프로젝트에 포함되어 널리 사용된다. \n",
    "2017년 12월 기준 300개 이상 패키지가 존재하며 계속 늘어나고 있다.\n",
    "스파크 패키지 목록은 누구나 자신이 개발한 패키지를 공개할 수 있는 저장소인 https://spark-packages.org/  에서 확인할 수 있다.\n",
    "\n",
    "## 3.8. 정리\n",
    "스파크를 비즈니스와 기술적인 문제 해결에 적용할 수 있는 다양한 방법에 대해 알아보았다."
   ]
  },
  {
   "cell_type": "code",
   "execution_count": null,
   "id": "9b4bdaad",
   "metadata": {},
   "outputs": [],
   "source": []
  },
  {
   "cell_type": "code",
   "execution_count": null,
   "id": "faa4f3f4",
   "metadata": {},
   "outputs": [],
   "source": []
  },
  {
   "cell_type": "code",
   "execution_count": null,
   "id": "de66c01b",
   "metadata": {},
   "outputs": [],
   "source": []
  },
  {
   "cell_type": "code",
   "execution_count": null,
   "id": "473fb180",
   "metadata": {},
   "outputs": [],
   "source": []
  },
  {
   "cell_type": "code",
   "execution_count": null,
   "id": "85b7692b",
   "metadata": {},
   "outputs": [],
   "source": []
  },
  {
   "cell_type": "code",
   "execution_count": null,
   "id": "1c981498",
   "metadata": {},
   "outputs": [],
   "source": []
  },
  {
   "cell_type": "code",
   "execution_count": null,
   "id": "46395b30",
   "metadata": {},
   "outputs": [],
   "source": []
  }
 ],
 "metadata": {
  "kernelspec": {
   "display_name": "Python 3",
   "language": "python",
   "name": "python3"
  },
  "language_info": {
   "codemirror_mode": {
    "name": "ipython",
    "version": 3
   },
   "file_extension": ".py",
   "mimetype": "text/x-python",
   "name": "python",
   "nbconvert_exporter": "python",
   "pygments_lexer": "ipython3",
   "version": "3.9.5"
  }
 },
 "nbformat": 4,
 "nbformat_minor": 5
}
